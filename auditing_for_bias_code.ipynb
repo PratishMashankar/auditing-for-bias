{
  "cells": [
    {
      "cell_type": "markdown",
      "source": [
        "## Cloning Propublica Git Repo"
      ],
      "metadata": {
        "id": "MgeR2Uu6UBGH"
      }
    },
    {
      "cell_type": "code",
      "execution_count": null,
      "metadata": {
        "colab": {
          "base_uri": "https://localhost:8080/"
        },
        "id": "ssoUi6--Q9jq",
        "outputId": "2785e036-11ce-46a8-ea85-ade2f58d72ba"
      },
      "outputs": [
        {
          "output_type": "stream",
          "name": "stdout",
          "text": [
            "Cloning into 'compas-analysis'...\n",
            "remote: Enumerating objects: 31, done.\u001b[K\n",
            "remote: Total 31 (delta 0), reused 0 (delta 0), pack-reused 31\u001b[K\n",
            "Unpacking objects: 100% (31/31), 15.24 MiB | 2.81 MiB/s, done.\n"
          ]
        }
      ],
      "source": [
        "!git clone https://github.com/propublica/compas-analysis.git"
      ]
    },
    {
      "cell_type": "markdown",
      "source": [
        "## Data Reading"
      ],
      "metadata": {
        "id": "ydRZnGixUFGK"
      }
    },
    {
      "cell_type": "code",
      "execution_count": null,
      "metadata": {
        "colab": {
          "base_uri": "https://localhost:8080/",
          "height": 641
        },
        "id": "g8o-2cWJLJXG",
        "outputId": "c030abc5-8060-4036-bbd5-c7d4abdf96ca"
      },
      "outputs": [
        {
          "output_type": "execute_result",
          "data": {
            "text/plain": [
              "         id                 name      first         last  \\\n",
              "0         1     miguel hernandez     miguel    hernandez   \n",
              "1         3          kevon dixon      kevon        dixon   \n",
              "2         4             ed philo         ed        philo   \n",
              "3         5          marcu brown      marcu        brown   \n",
              "4         6   bouthy pierrelouis     bouthy  pierrelouis   \n",
              "...     ...                  ...        ...          ...   \n",
              "7209  10996        steven butler     steven       butler   \n",
              "7210  10997      malcolm simmons    malcolm      simmons   \n",
              "7211  10999      winston gregory    winston      gregory   \n",
              "7212  11000          farrah jean     farrah         jean   \n",
              "7213  11001  florencia sanmartin  florencia    sanmartin   \n",
              "\n",
              "     compas_screening_date     sex         dob  age          age_cat  \\\n",
              "0               2013-08-14    Male  1947-04-18   69  Greater than 45   \n",
              "1               2013-01-27    Male  1982-01-22   34          25 - 45   \n",
              "2               2013-04-14    Male  1991-05-14   24     Less than 25   \n",
              "3               2013-01-13    Male  1993-01-21   23     Less than 25   \n",
              "4               2013-03-26    Male  1973-01-22   43          25 - 45   \n",
              "...                    ...     ...         ...  ...              ...   \n",
              "7209            2013-11-23    Male  1992-07-17   23     Less than 25   \n",
              "7210            2014-02-01    Male  1993-03-25   23     Less than 25   \n",
              "7211            2014-01-14    Male  1958-10-01   57  Greater than 45   \n",
              "7212            2014-03-09  Female  1982-11-17   33          25 - 45   \n",
              "7213            2014-06-30  Female  1992-12-18   23     Less than 25   \n",
              "\n",
              "                  race  ...  v_decile_score  v_score_text  v_screening_date  \\\n",
              "0                Other  ...               1           Low        2013-08-14   \n",
              "1     African-American  ...               1           Low        2013-01-27   \n",
              "2     African-American  ...               3           Low        2013-04-14   \n",
              "3     African-American  ...               6        Medium        2013-01-13   \n",
              "4                Other  ...               1           Low        2013-03-26   \n",
              "...                ...  ...             ...           ...               ...   \n",
              "7209  African-American  ...               5        Medium        2013-11-23   \n",
              "7210  African-American  ...               5        Medium        2014-02-01   \n",
              "7211             Other  ...               1           Low        2014-01-14   \n",
              "7212  African-American  ...               2           Low        2014-03-09   \n",
              "7213          Hispanic  ...               4           Low        2014-06-30   \n",
              "\n",
              "      in_custody  out_custody  priors_count.1 start   end event two_year_recid  \n",
              "0     2014-07-07   2014-07-14               0     0   327     0              0  \n",
              "1     2013-01-26   2013-02-05               0     9   159     1              1  \n",
              "2     2013-06-16   2013-06-16               4     0    63     0              1  \n",
              "3            NaN          NaN               1     0  1174     0              0  \n",
              "4            NaN          NaN               2     0  1102     0              0  \n",
              "...          ...          ...             ...   ...   ...   ...            ...  \n",
              "7209  2013-11-22   2013-11-24               0     1   860     0              0  \n",
              "7210  2014-01-31   2014-02-02               0     1   790     0              0  \n",
              "7211  2014-01-13   2014-01-14               0     0   808     0              0  \n",
              "7212  2014-03-08   2014-03-09               3     0   754     0              0  \n",
              "7213  2015-03-15   2015-03-15               2     0   258     0              1  \n",
              "\n",
              "[7214 rows x 53 columns]"
            ],
            "text/html": [
              "\n",
              "  <div id=\"df-2be14586-61f7-403c-a669-0c788540ecf8\">\n",
              "    <div class=\"colab-df-container\">\n",
              "      <div>\n",
              "<style scoped>\n",
              "    .dataframe tbody tr th:only-of-type {\n",
              "        vertical-align: middle;\n",
              "    }\n",
              "\n",
              "    .dataframe tbody tr th {\n",
              "        vertical-align: top;\n",
              "    }\n",
              "\n",
              "    .dataframe thead th {\n",
              "        text-align: right;\n",
              "    }\n",
              "</style>\n",
              "<table border=\"1\" class=\"dataframe\">\n",
              "  <thead>\n",
              "    <tr style=\"text-align: right;\">\n",
              "      <th></th>\n",
              "      <th>id</th>\n",
              "      <th>name</th>\n",
              "      <th>first</th>\n",
              "      <th>last</th>\n",
              "      <th>compas_screening_date</th>\n",
              "      <th>sex</th>\n",
              "      <th>dob</th>\n",
              "      <th>age</th>\n",
              "      <th>age_cat</th>\n",
              "      <th>race</th>\n",
              "      <th>...</th>\n",
              "      <th>v_decile_score</th>\n",
              "      <th>v_score_text</th>\n",
              "      <th>v_screening_date</th>\n",
              "      <th>in_custody</th>\n",
              "      <th>out_custody</th>\n",
              "      <th>priors_count.1</th>\n",
              "      <th>start</th>\n",
              "      <th>end</th>\n",
              "      <th>event</th>\n",
              "      <th>two_year_recid</th>\n",
              "    </tr>\n",
              "  </thead>\n",
              "  <tbody>\n",
              "    <tr>\n",
              "      <th>0</th>\n",
              "      <td>1</td>\n",
              "      <td>miguel hernandez</td>\n",
              "      <td>miguel</td>\n",
              "      <td>hernandez</td>\n",
              "      <td>2013-08-14</td>\n",
              "      <td>Male</td>\n",
              "      <td>1947-04-18</td>\n",
              "      <td>69</td>\n",
              "      <td>Greater than 45</td>\n",
              "      <td>Other</td>\n",
              "      <td>...</td>\n",
              "      <td>1</td>\n",
              "      <td>Low</td>\n",
              "      <td>2013-08-14</td>\n",
              "      <td>2014-07-07</td>\n",
              "      <td>2014-07-14</td>\n",
              "      <td>0</td>\n",
              "      <td>0</td>\n",
              "      <td>327</td>\n",
              "      <td>0</td>\n",
              "      <td>0</td>\n",
              "    </tr>\n",
              "    <tr>\n",
              "      <th>1</th>\n",
              "      <td>3</td>\n",
              "      <td>kevon dixon</td>\n",
              "      <td>kevon</td>\n",
              "      <td>dixon</td>\n",
              "      <td>2013-01-27</td>\n",
              "      <td>Male</td>\n",
              "      <td>1982-01-22</td>\n",
              "      <td>34</td>\n",
              "      <td>25 - 45</td>\n",
              "      <td>African-American</td>\n",
              "      <td>...</td>\n",
              "      <td>1</td>\n",
              "      <td>Low</td>\n",
              "      <td>2013-01-27</td>\n",
              "      <td>2013-01-26</td>\n",
              "      <td>2013-02-05</td>\n",
              "      <td>0</td>\n",
              "      <td>9</td>\n",
              "      <td>159</td>\n",
              "      <td>1</td>\n",
              "      <td>1</td>\n",
              "    </tr>\n",
              "    <tr>\n",
              "      <th>2</th>\n",
              "      <td>4</td>\n",
              "      <td>ed philo</td>\n",
              "      <td>ed</td>\n",
              "      <td>philo</td>\n",
              "      <td>2013-04-14</td>\n",
              "      <td>Male</td>\n",
              "      <td>1991-05-14</td>\n",
              "      <td>24</td>\n",
              "      <td>Less than 25</td>\n",
              "      <td>African-American</td>\n",
              "      <td>...</td>\n",
              "      <td>3</td>\n",
              "      <td>Low</td>\n",
              "      <td>2013-04-14</td>\n",
              "      <td>2013-06-16</td>\n",
              "      <td>2013-06-16</td>\n",
              "      <td>4</td>\n",
              "      <td>0</td>\n",
              "      <td>63</td>\n",
              "      <td>0</td>\n",
              "      <td>1</td>\n",
              "    </tr>\n",
              "    <tr>\n",
              "      <th>3</th>\n",
              "      <td>5</td>\n",
              "      <td>marcu brown</td>\n",
              "      <td>marcu</td>\n",
              "      <td>brown</td>\n",
              "      <td>2013-01-13</td>\n",
              "      <td>Male</td>\n",
              "      <td>1993-01-21</td>\n",
              "      <td>23</td>\n",
              "      <td>Less than 25</td>\n",
              "      <td>African-American</td>\n",
              "      <td>...</td>\n",
              "      <td>6</td>\n",
              "      <td>Medium</td>\n",
              "      <td>2013-01-13</td>\n",
              "      <td>NaN</td>\n",
              "      <td>NaN</td>\n",
              "      <td>1</td>\n",
              "      <td>0</td>\n",
              "      <td>1174</td>\n",
              "      <td>0</td>\n",
              "      <td>0</td>\n",
              "    </tr>\n",
              "    <tr>\n",
              "      <th>4</th>\n",
              "      <td>6</td>\n",
              "      <td>bouthy pierrelouis</td>\n",
              "      <td>bouthy</td>\n",
              "      <td>pierrelouis</td>\n",
              "      <td>2013-03-26</td>\n",
              "      <td>Male</td>\n",
              "      <td>1973-01-22</td>\n",
              "      <td>43</td>\n",
              "      <td>25 - 45</td>\n",
              "      <td>Other</td>\n",
              "      <td>...</td>\n",
              "      <td>1</td>\n",
              "      <td>Low</td>\n",
              "      <td>2013-03-26</td>\n",
              "      <td>NaN</td>\n",
              "      <td>NaN</td>\n",
              "      <td>2</td>\n",
              "      <td>0</td>\n",
              "      <td>1102</td>\n",
              "      <td>0</td>\n",
              "      <td>0</td>\n",
              "    </tr>\n",
              "    <tr>\n",
              "      <th>...</th>\n",
              "      <td>...</td>\n",
              "      <td>...</td>\n",
              "      <td>...</td>\n",
              "      <td>...</td>\n",
              "      <td>...</td>\n",
              "      <td>...</td>\n",
              "      <td>...</td>\n",
              "      <td>...</td>\n",
              "      <td>...</td>\n",
              "      <td>...</td>\n",
              "      <td>...</td>\n",
              "      <td>...</td>\n",
              "      <td>...</td>\n",
              "      <td>...</td>\n",
              "      <td>...</td>\n",
              "      <td>...</td>\n",
              "      <td>...</td>\n",
              "      <td>...</td>\n",
              "      <td>...</td>\n",
              "      <td>...</td>\n",
              "      <td>...</td>\n",
              "    </tr>\n",
              "    <tr>\n",
              "      <th>7209</th>\n",
              "      <td>10996</td>\n",
              "      <td>steven butler</td>\n",
              "      <td>steven</td>\n",
              "      <td>butler</td>\n",
              "      <td>2013-11-23</td>\n",
              "      <td>Male</td>\n",
              "      <td>1992-07-17</td>\n",
              "      <td>23</td>\n",
              "      <td>Less than 25</td>\n",
              "      <td>African-American</td>\n",
              "      <td>...</td>\n",
              "      <td>5</td>\n",
              "      <td>Medium</td>\n",
              "      <td>2013-11-23</td>\n",
              "      <td>2013-11-22</td>\n",
              "      <td>2013-11-24</td>\n",
              "      <td>0</td>\n",
              "      <td>1</td>\n",
              "      <td>860</td>\n",
              "      <td>0</td>\n",
              "      <td>0</td>\n",
              "    </tr>\n",
              "    <tr>\n",
              "      <th>7210</th>\n",
              "      <td>10997</td>\n",
              "      <td>malcolm simmons</td>\n",
              "      <td>malcolm</td>\n",
              "      <td>simmons</td>\n",
              "      <td>2014-02-01</td>\n",
              "      <td>Male</td>\n",
              "      <td>1993-03-25</td>\n",
              "      <td>23</td>\n",
              "      <td>Less than 25</td>\n",
              "      <td>African-American</td>\n",
              "      <td>...</td>\n",
              "      <td>5</td>\n",
              "      <td>Medium</td>\n",
              "      <td>2014-02-01</td>\n",
              "      <td>2014-01-31</td>\n",
              "      <td>2014-02-02</td>\n",
              "      <td>0</td>\n",
              "      <td>1</td>\n",
              "      <td>790</td>\n",
              "      <td>0</td>\n",
              "      <td>0</td>\n",
              "    </tr>\n",
              "    <tr>\n",
              "      <th>7211</th>\n",
              "      <td>10999</td>\n",
              "      <td>winston gregory</td>\n",
              "      <td>winston</td>\n",
              "      <td>gregory</td>\n",
              "      <td>2014-01-14</td>\n",
              "      <td>Male</td>\n",
              "      <td>1958-10-01</td>\n",
              "      <td>57</td>\n",
              "      <td>Greater than 45</td>\n",
              "      <td>Other</td>\n",
              "      <td>...</td>\n",
              "      <td>1</td>\n",
              "      <td>Low</td>\n",
              "      <td>2014-01-14</td>\n",
              "      <td>2014-01-13</td>\n",
              "      <td>2014-01-14</td>\n",
              "      <td>0</td>\n",
              "      <td>0</td>\n",
              "      <td>808</td>\n",
              "      <td>0</td>\n",
              "      <td>0</td>\n",
              "    </tr>\n",
              "    <tr>\n",
              "      <th>7212</th>\n",
              "      <td>11000</td>\n",
              "      <td>farrah jean</td>\n",
              "      <td>farrah</td>\n",
              "      <td>jean</td>\n",
              "      <td>2014-03-09</td>\n",
              "      <td>Female</td>\n",
              "      <td>1982-11-17</td>\n",
              "      <td>33</td>\n",
              "      <td>25 - 45</td>\n",
              "      <td>African-American</td>\n",
              "      <td>...</td>\n",
              "      <td>2</td>\n",
              "      <td>Low</td>\n",
              "      <td>2014-03-09</td>\n",
              "      <td>2014-03-08</td>\n",
              "      <td>2014-03-09</td>\n",
              "      <td>3</td>\n",
              "      <td>0</td>\n",
              "      <td>754</td>\n",
              "      <td>0</td>\n",
              "      <td>0</td>\n",
              "    </tr>\n",
              "    <tr>\n",
              "      <th>7213</th>\n",
              "      <td>11001</td>\n",
              "      <td>florencia sanmartin</td>\n",
              "      <td>florencia</td>\n",
              "      <td>sanmartin</td>\n",
              "      <td>2014-06-30</td>\n",
              "      <td>Female</td>\n",
              "      <td>1992-12-18</td>\n",
              "      <td>23</td>\n",
              "      <td>Less than 25</td>\n",
              "      <td>Hispanic</td>\n",
              "      <td>...</td>\n",
              "      <td>4</td>\n",
              "      <td>Low</td>\n",
              "      <td>2014-06-30</td>\n",
              "      <td>2015-03-15</td>\n",
              "      <td>2015-03-15</td>\n",
              "      <td>2</td>\n",
              "      <td>0</td>\n",
              "      <td>258</td>\n",
              "      <td>0</td>\n",
              "      <td>1</td>\n",
              "    </tr>\n",
              "  </tbody>\n",
              "</table>\n",
              "<p>7214 rows × 53 columns</p>\n",
              "</div>\n",
              "      <button class=\"colab-df-convert\" onclick=\"convertToInteractive('df-2be14586-61f7-403c-a669-0c788540ecf8')\"\n",
              "              title=\"Convert this dataframe to an interactive table.\"\n",
              "              style=\"display:none;\">\n",
              "        \n",
              "  <svg xmlns=\"http://www.w3.org/2000/svg\" height=\"24px\"viewBox=\"0 0 24 24\"\n",
              "       width=\"24px\">\n",
              "    <path d=\"M0 0h24v24H0V0z\" fill=\"none\"/>\n",
              "    <path d=\"M18.56 5.44l.94 2.06.94-2.06 2.06-.94-2.06-.94-.94-2.06-.94 2.06-2.06.94zm-11 1L8.5 8.5l.94-2.06 2.06-.94-2.06-.94L8.5 2.5l-.94 2.06-2.06.94zm10 10l.94 2.06.94-2.06 2.06-.94-2.06-.94-.94-2.06-.94 2.06-2.06.94z\"/><path d=\"M17.41 7.96l-1.37-1.37c-.4-.4-.92-.59-1.43-.59-.52 0-1.04.2-1.43.59L10.3 9.45l-7.72 7.72c-.78.78-.78 2.05 0 2.83L4 21.41c.39.39.9.59 1.41.59.51 0 1.02-.2 1.41-.59l7.78-7.78 2.81-2.81c.8-.78.8-2.07 0-2.86zM5.41 20L4 18.59l7.72-7.72 1.47 1.35L5.41 20z\"/>\n",
              "  </svg>\n",
              "      </button>\n",
              "      \n",
              "  <style>\n",
              "    .colab-df-container {\n",
              "      display:flex;\n",
              "      flex-wrap:wrap;\n",
              "      gap: 12px;\n",
              "    }\n",
              "\n",
              "    .colab-df-convert {\n",
              "      background-color: #E8F0FE;\n",
              "      border: none;\n",
              "      border-radius: 50%;\n",
              "      cursor: pointer;\n",
              "      display: none;\n",
              "      fill: #1967D2;\n",
              "      height: 32px;\n",
              "      padding: 0 0 0 0;\n",
              "      width: 32px;\n",
              "    }\n",
              "\n",
              "    .colab-df-convert:hover {\n",
              "      background-color: #E2EBFA;\n",
              "      box-shadow: 0px 1px 2px rgba(60, 64, 67, 0.3), 0px 1px 3px 1px rgba(60, 64, 67, 0.15);\n",
              "      fill: #174EA6;\n",
              "    }\n",
              "\n",
              "    [theme=dark] .colab-df-convert {\n",
              "      background-color: #3B4455;\n",
              "      fill: #D2E3FC;\n",
              "    }\n",
              "\n",
              "    [theme=dark] .colab-df-convert:hover {\n",
              "      background-color: #434B5C;\n",
              "      box-shadow: 0px 1px 3px 1px rgba(0, 0, 0, 0.15);\n",
              "      filter: drop-shadow(0px 1px 2px rgba(0, 0, 0, 0.3));\n",
              "      fill: #FFFFFF;\n",
              "    }\n",
              "  </style>\n",
              "\n",
              "      <script>\n",
              "        const buttonEl =\n",
              "          document.querySelector('#df-2be14586-61f7-403c-a669-0c788540ecf8 button.colab-df-convert');\n",
              "        buttonEl.style.display =\n",
              "          google.colab.kernel.accessAllowed ? 'block' : 'none';\n",
              "\n",
              "        async function convertToInteractive(key) {\n",
              "          const element = document.querySelector('#df-2be14586-61f7-403c-a669-0c788540ecf8');\n",
              "          const dataTable =\n",
              "            await google.colab.kernel.invokeFunction('convertToInteractive',\n",
              "                                                     [key], {});\n",
              "          if (!dataTable) return;\n",
              "\n",
              "          const docLinkHtml = 'Like what you see? Visit the ' +\n",
              "            '<a target=\"_blank\" href=https://colab.research.google.com/notebooks/data_table.ipynb>data table notebook</a>'\n",
              "            + ' to learn more about interactive tables.';\n",
              "          element.innerHTML = '';\n",
              "          dataTable['output_type'] = 'display_data';\n",
              "          await google.colab.output.renderOutput(dataTable, element);\n",
              "          const docLink = document.createElement('div');\n",
              "          docLink.innerHTML = docLinkHtml;\n",
              "          element.appendChild(docLink);\n",
              "        }\n",
              "      </script>\n",
              "    </div>\n",
              "  </div>\n",
              "  "
            ]
          },
          "metadata": {},
          "execution_count": 2
        }
      ],
      "source": [
        "import pandas as pd\n",
        "\n",
        "# read the text file into a dataframe\n",
        "df = pd.read_csv('/content/compas-analysis/compas-scores-two-years.csv', sep=',')\n",
        "\n",
        "# Display the resulting DataFrame\n",
        "df"
      ]
    },
    {
      "cell_type": "markdown",
      "source": [
        "## Data Visualization"
      ],
      "metadata": {
        "id": "hx7F_-C4UKEu"
      }
    },
    {
      "cell_type": "markdown",
      "source": [
        "Visualizing the sex ratio in ProPublica Dataset"
      ],
      "metadata": {
        "id": "IMwtcd6o0Ngq"
      }
    },
    {
      "cell_type": "code",
      "source": [
        "import matplotlib.pyplot as plt\n",
        "\n",
        "# Count the number of males and females\n",
        "count = df[\"sex\"].value_counts()\n",
        "\n",
        "# Create a bar graph\n",
        "fig, ax = plt.subplots()\n",
        "bars = ax.bar(count.index, count.values, color=['#1f77b4', '#ff7f0e'])\n",
        "\n",
        "# Add counts on top of the bars\n",
        "for bar in bars:\n",
        "    height = bar.get_height()\n",
        "    ax.annotate(f\"{height}\",\n",
        "                xy=(bar.get_x() + bar.get_width() / 2, height),\n",
        "                xytext=(0, 3),  # 3 points vertical offset\n",
        "                textcoords=\"offset points\",\n",
        "                ha='center', va='bottom', fontsize=12)\n",
        "\n",
        "# Add title and axis labels\n",
        "ax.set_title(\"Sex Distribution for ProPublica Data\")\n",
        "ax.set_xlabel(\"Sex\")\n",
        "ax.set_ylabel(\"Count\")\n",
        "\n",
        "# Set the style of the graph\n",
        "plt.style.use(\"ggplot\")\n",
        "ax.spines[\"top\"].set_visible(False)\n",
        "ax.spines[\"right\"].set_visible(False)\n",
        "\n",
        "# Show the graph\n",
        "plt.show()"
      ],
      "metadata": {
        "id": "Y7JnSp1hUThT",
        "colab": {
          "base_uri": "https://localhost:8080/",
          "height": 472
        },
        "outputId": "141e050f-f978-43e3-e6a5-3316b547d36f"
      },
      "execution_count": null,
      "outputs": [
        {
          "output_type": "display_data",
          "data": {
            "text/plain": [
              "<Figure size 640x480 with 1 Axes>"
            ],
            "image/png": "[encoded data removed]"
          },
          "metadata": {}
        }
      ]
    },
    {
      "cell_type": "markdown",
      "source": [
        "Visualizing Age Category in the ProPublica Dataset"
      ],
      "metadata": {
        "id": "1sU-R6tn0UWB"
      }
    },
    {
      "cell_type": "code",
      "execution_count": null,
      "metadata": {
        "colab": {
          "base_uri": "https://localhost:8080/",
          "height": 477
        },
        "id": "E2qlBQn3O1ty",
        "outputId": "d01a4eba-0234-4435-9cc8-39c0f5dc5644"
      },
      "outputs": [
        {
          "output_type": "display_data",
          "data": {
            "text/plain": [
              "<Figure size 640x480 with 1 Axes>"
            ],
            "image/png": "[encoded data removed]"
          },
          "metadata": {}
        }
      ],
      "source": [
        "import matplotlib.pyplot as plt\n",
        "\n",
        "# Count the number of males and females\n",
        "count = df[\"age_cat\"].value_counts()\n",
        "\n",
        "# Create a bar graph\n",
        "fig, ax = plt.subplots()\n",
        "bars = ax.bar(count.index, count.values, color=['orange', 'pink', 'green'])\n",
        "\n",
        "# Add counts on top of the bars\n",
        "for bar in bars:\n",
        "    height = bar.get_height()\n",
        "    ax.annotate(f\"{height}\",\n",
        "                xy=(bar.get_x() + bar.get_width() / 2, height),\n",
        "                xytext=(0, 3),  # 3 points vertical offset\n",
        "                textcoords=\"offset points\",\n",
        "                ha='center', va='bottom', fontsize=12)\n",
        "\n",
        "# Add title and axis labels\n",
        "ax.set_title(\"Age Distribution for ProPublica Data\")\n",
        "ax.set_xlabel(\"Age Category\")\n",
        "ax.set_ylabel(\"Values\")\n",
        "\n",
        "# Set the style of the graph\n",
        "plt.style.use(\"ggplot\")\n",
        "ax.spines[\"top\"].set_visible(False)\n",
        "ax.spines[\"right\"].set_visible(False)\n",
        "\n",
        "# Show the graph\n",
        "plt.show()"
      ]
    },
    {
      "cell_type": "markdown",
      "source": [
        "Visualizing the Race Distribution"
      ],
      "metadata": {
        "id": "kJF9Gqur0buP"
      }
    },
    {
      "cell_type": "code",
      "source": [
        "import matplotlib.pyplot as plt\n",
        "\n",
        "# Count the number of races\n",
        "count = df[\"race\"].value_counts()\n",
        "\n",
        "# Create a bar graph\n",
        "fig, ax = plt.subplots()\n",
        "bars = ax.bar(count.index, count.values, color=['orange', 'pink', 'green', 'red', 'blue', 'yellow'])\n",
        "\n",
        "# Add counts on top of the bars\n",
        "for bar in bars:\n",
        "    height = bar.get_height()\n",
        "    ax.annotate(f\"{height}\",\n",
        "                xy=(bar.get_x() + bar.get_width() / 2, height),\n",
        "                xytext=(0, 3),  # 3 points vertical offset\n",
        "                textcoords=\"offset points\",\n",
        "                ha='center', va='bottom', fontsize=12)\n",
        "\n",
        "# Add title and axis labels\n",
        "ax.set_title(\"Race Distribution for ProPublica Data\")\n",
        "ax.set_xlabel(\"Race\")\n",
        "ax.set_ylabel(\"Values\")\n",
        "\n",
        "# Set the style of the graph\n",
        "plt.style.use(\"ggplot\")\n",
        "ax.spines[\"top\"].set_visible(False)\n",
        "ax.spines[\"right\"].set_visible(False)\n",
        "\n",
        "# Set the x-axis label rotation and alignment\n",
        "plt.xticks(rotation=45, ha=\"right\")\n",
        "\n",
        "# Show the graph\n",
        "plt.show()\n"
      ],
      "metadata": {
        "colab": {
          "base_uri": "https://localhost:8080/",
          "height": 557
        },
        "id": "ZAICyCH3buEz",
        "outputId": "7ad3e024-f579-4b30-e335-77f9f70c89a3"
      },
      "execution_count": null,
      "outputs": [
        {
          "output_type": "display_data",
          "data": {
            "text/plain": [
              "<Figure size 640x480 with 1 Axes>"
            ],
            "image/png": "[encoded data removed]"
          },
          "metadata": {}
        }
      ]
    },
    {
      "cell_type": "markdown",
      "source": [
        "Visualizing Class Label: recidivate or not in the ProPublica Dataset"
      ],
      "metadata": {
        "id": "9XzlO7Cu0hg3"
      }
    },
    {
      "cell_type": "code",
      "source": [
        "import matplotlib.pyplot as plt\n",
        "\n",
        "# Count the number of recidivists and non-recidivists\n",
        "count = df[\"is_recid\"].value_counts()\n",
        "\n",
        "# Create a bar graph\n",
        "fig, ax = plt.subplots()\n",
        "bars = ax.bar([0, 1], [count[0], count[1]], color=['#1f77b4', '#ff7f0e'])\n",
        "\n",
        "# Add counts on top of the bars\n",
        "for bar in bars:\n",
        "    height = bar.get_height()\n",
        "    ax.annotate(f\"{height}\",\n",
        "                xy=(bar.get_x() + bar.get_width() / 2, height),\n",
        "                xytext=(0, 3),  # 3 points vertical offset\n",
        "                textcoords=\"offset points\",\n",
        "                ha='center', va='bottom', fontsize=12)\n",
        "\n",
        "# Add title and axis labels\n",
        "ax.set_title(\"Recidivism Statistic for ProPublica Data\")\n",
        "# ax.set_xlabel(\"Did or Did not recidivate\")\n",
        "ax.set_ylabel(\"Count\")\n",
        "\n",
        "# Set the x-axis tick labels\n",
        "plt.xticks([0, 1], [\"Did not\\nrecidivate\", \"Recidivated\"])\n",
        "\n",
        "# Set the style of the graph\n",
        "plt.style.use(\"ggplot\")\n",
        "ax.spines[\"top\"].set_visible(False)\n",
        "ax.spines[\"right\"].set_visible(False)\n",
        "\n",
        "# Show the graph\n",
        "plt.show()"
      ],
      "metadata": {
        "colab": {
          "base_uri": "https://localhost:8080/",
          "height": 469
        },
        "id": "_n43Zuv7cRwA",
        "outputId": "23337608-d16d-4878-de8e-cbbfb89cc3c2"
      },
      "execution_count": null,
      "outputs": [
        {
          "output_type": "display_data",
          "data": {
            "text/plain": [
              "<Figure size 640x480 with 1 Axes>"
            ],
            "image/png": "[encoded data removed]"
          },
          "metadata": {}
        }
      ]
    },
    {
      "cell_type": "markdown",
      "source": [
        "Visualizing the Race v/s Sex matrix"
      ],
      "metadata": {
        "id": "JQvcMnEX_hni"
      }
    },
    {
      "cell_type": "code",
      "source": [
        "import matplotlib.pyplot as plt\n",
        "\n",
        "# use groupby to group the data by race and is_recid, and then count the occurrences\n",
        "matrix = df.groupby(['race', 'sex']).size().unstack(fill_value=0)\n",
        "\n",
        "# rename the columns for readability\n",
        "matrix.columns = ['Female', 'Male']\n",
        "\n",
        "# print the resulting matrix\n",
        "matrix"
      ],
      "metadata": {
        "colab": {
          "base_uri": "https://localhost:8080/",
          "height": 269
        },
        "id": "B3BYeas9_h9q",
        "outputId": "8f390e38-9031-4128-ff3b-8d6fe9de936b"
      },
      "execution_count": null,
      "outputs": [
        {
          "output_type": "execute_result",
          "data": {
            "text/plain": [
              "                  Female  Male\n",
              "race                          \n",
              "African-American     652  3044\n",
              "Asian                  2    30\n",
              "Caucasian            567  1887\n",
              "Hispanic             103   534\n",
              "Native American        4    14\n",
              "Other                 67   310"
            ],
            "text/html": [
              "\n",
              "  <div id=\"df-4c30ff41-e9d1-4696-8c32-b749a8d0d571\">\n",
              "    <div class=\"colab-df-container\">\n",
              "      <div>\n",
              "<style scoped>\n",
              "    .dataframe tbody tr th:only-of-type {\n",
              "        vertical-align: middle;\n",
              "    }\n",
              "\n",
              "    .dataframe tbody tr th {\n",
              "        vertical-align: top;\n",
              "    }\n",
              "\n",
              "    .dataframe thead th {\n",
              "        text-align: right;\n",
              "    }\n",
              "</style>\n",
              "<table border=\"1\" class=\"dataframe\">\n",
              "  <thead>\n",
              "    <tr style=\"text-align: right;\">\n",
              "      <th></th>\n",
              "      <th>Female</th>\n",
              "      <th>Male</th>\n",
              "    </tr>\n",
              "    <tr>\n",
              "      <th>race</th>\n",
              "      <th></th>\n",
              "      <th></th>\n",
              "    </tr>\n",
              "  </thead>\n",
              "  <tbody>\n",
              "    <tr>\n",
              "      <th>African-American</th>\n",
              "      <td>652</td>\n",
              "      <td>3044</td>\n",
              "    </tr>\n",
              "    <tr>\n",
              "      <th>Asian</th>\n",
              "      <td>2</td>\n",
              "      <td>30</td>\n",
              "    </tr>\n",
              "    <tr>\n",
              "      <th>Caucasian</th>\n",
              "      <td>567</td>\n",
              "      <td>1887</td>\n",
              "    </tr>\n",
              "    <tr>\n",
              "      <th>Hispanic</th>\n",
              "      <td>103</td>\n",
              "      <td>534</td>\n",
              "    </tr>\n",
              "    <tr>\n",
              "      <th>Native American</th>\n",
              "      <td>4</td>\n",
              "      <td>14</td>\n",
              "    </tr>\n",
              "    <tr>\n",
              "      <th>Other</th>\n",
              "      <td>67</td>\n",
              "      <td>310</td>\n",
              "    </tr>\n",
              "  </tbody>\n",
              "</table>\n",
              "</div>\n",
              "      <button class=\"colab-df-convert\" onclick=\"convertToInteractive('df-4c30ff41-e9d1-4696-8c32-b749a8d0d571')\"\n",
              "              title=\"Convert this dataframe to an interactive table.\"\n",
              "              style=\"display:none;\">\n",
              "        \n",
              "  <svg xmlns=\"http://www.w3.org/2000/svg\" height=\"24px\"viewBox=\"0 0 24 24\"\n",
              "       width=\"24px\">\n",
              "    <path d=\"M0 0h24v24H0V0z\" fill=\"none\"/>\n",
              "    <path d=\"M18.56 5.44l.94 2.06.94-2.06 2.06-.94-2.06-.94-.94-2.06-.94 2.06-2.06.94zm-11 1L8.5 8.5l.94-2.06 2.06-.94-2.06-.94L8.5 2.5l-.94 2.06-2.06.94zm10 10l.94 2.06.94-2.06 2.06-.94-2.06-.94-.94-2.06-.94 2.06-2.06.94z\"/><path d=\"M17.41 7.96l-1.37-1.37c-.4-.4-.92-.59-1.43-.59-.52 0-1.04.2-1.43.59L10.3 9.45l-7.72 7.72c-.78.78-.78 2.05 0 2.83L4 21.41c.39.39.9.59 1.41.59.51 0 1.02-.2 1.41-.59l7.78-7.78 2.81-2.81c.8-.78.8-2.07 0-2.86zM5.41 20L4 18.59l7.72-7.72 1.47 1.35L5.41 20z\"/>\n",
              "  </svg>\n",
              "      </button>\n",
              "      \n",
              "  <style>\n",
              "    .colab-df-container {\n",
              "      display:flex;\n",
              "      flex-wrap:wrap;\n",
              "      gap: 12px;\n",
              "    }\n",
              "\n",
              "    .colab-df-convert {\n",
              "      background-color: #E8F0FE;\n",
              "      border: none;\n",
              "      border-radius: 50%;\n",
              "      cursor: pointer;\n",
              "      display: none;\n",
              "      fill: #1967D2;\n",
              "      height: 32px;\n",
              "      padding: 0 0 0 0;\n",
              "      width: 32px;\n",
              "    }\n",
              "\n",
              "    .colab-df-convert:hover {\n",
              "      background-color: #E2EBFA;\n",
              "      box-shadow: 0px 1px 2px rgba(60, 64, 67, 0.3), 0px 1px 3px 1px rgba(60, 64, 67, 0.15);\n",
              "      fill: #174EA6;\n",
              "    }\n",
              "\n",
              "    [theme=dark] .colab-df-convert {\n",
              "      background-color: #3B4455;\n",
              "      fill: #D2E3FC;\n",
              "    }\n",
              "\n",
              "    [theme=dark] .colab-df-convert:hover {\n",
              "      background-color: #434B5C;\n",
              "      box-shadow: 0px 1px 3px 1px rgba(0, 0, 0, 0.15);\n",
              "      filter: drop-shadow(0px 1px 2px rgba(0, 0, 0, 0.3));\n",
              "      fill: #FFFFFF;\n",
              "    }\n",
              "  </style>\n",
              "\n",
              "      <script>\n",
              "        const buttonEl =\n",
              "          document.querySelector('#df-4c30ff41-e9d1-4696-8c32-b749a8d0d571 button.colab-df-convert');\n",
              "        buttonEl.style.display =\n",
              "          google.colab.kernel.accessAllowed ? 'block' : 'none';\n",
              "\n",
              "        async function convertToInteractive(key) {\n",
              "          const element = document.querySelector('#df-4c30ff41-e9d1-4696-8c32-b749a8d0d571');\n",
              "          const dataTable =\n",
              "            await google.colab.kernel.invokeFunction('convertToInteractive',\n",
              "                                                     [key], {});\n",
              "          if (!dataTable) return;\n",
              "\n",
              "          const docLinkHtml = 'Like what you see? Visit the ' +\n",
              "            '<a target=\"_blank\" href=https://colab.research.google.com/notebooks/data_table.ipynb>data table notebook</a>'\n",
              "            + ' to learn more about interactive tables.';\n",
              "          element.innerHTML = '';\n",
              "          dataTable['output_type'] = 'display_data';\n",
              "          await google.colab.output.renderOutput(dataTable, element);\n",
              "          const docLink = document.createElement('div');\n",
              "          docLink.innerHTML = docLinkHtml;\n",
              "          element.appendChild(docLink);\n",
              "        }\n",
              "      </script>\n",
              "    </div>\n",
              "  </div>\n",
              "  "
            ]
          },
          "metadata": {},
          "execution_count": 7
        }
      ]
    },
    {
      "cell_type": "markdown",
      "source": [
        "Visualizing the Recidivism v/s Race matrix"
      ],
      "metadata": {
        "id": "XU9fQVSy0s6e"
      }
    },
    {
      "cell_type": "code",
      "source": [
        "import matplotlib.pyplot as plt\n",
        "\n",
        "# use groupby to group the data by race and is_recid, and then count the occurrences\n",
        "matrix = df.groupby(['race', 'is_recid']).size().unstack(fill_value=0)\n",
        "\n",
        "# rename the columns for readability\n",
        "matrix.columns = ['Not Recidivated', 'Recidivated']\n",
        "\n",
        "# print the resulting matrix\n",
        "print(matrix)\n",
        "\n",
        "# filter the dataframe to only include rows where is_recid is True\n",
        "recid_df = df[df['is_recid'] == True]\n",
        "\n",
        "# use value_counts to count the occurrences of each race value\n",
        "recid_counts = recid_df['race'].value_counts()\n",
        "\n",
        "ax = recid_counts.plot.pie(title='Recidivated', autopct='%1.1f%%', figsize=(6, 6))\n",
        "ax.set_ylabel('')\n",
        "\n",
        "# add a legend to display the race names and percentages\n",
        "ax.legend(labels=[f'{race} ({recid_counts[race]} people, {recid_counts[race]/recid_counts.sum()*100:.1f}%)'\n",
        "                   for race in recid_counts.index],\n",
        "          loc='center left', bbox_to_anchor=(1, 0.5))\n",
        "\n",
        "plt.show()\n"
      ],
      "metadata": {
        "colab": {
          "base_uri": "https://localhost:8080/",
          "height": 661
        },
        "id": "HBWmMIrs0tZR",
        "outputId": "68181c03-fb60-4a20-cf0e-88983ae2680c"
      },
      "execution_count": null,
      "outputs": [
        {
          "output_type": "stream",
          "name": "stdout",
          "text": [
            "                  Not Recidivated  Recidivated\n",
            "race                                          \n",
            "African-American             1660         2036\n",
            "Asian                          21           11\n",
            "Caucasian                    1429         1025\n",
            "Hispanic                      392          245\n",
            "Native American                 7           11\n",
            "Other                         234          143\n"
          ]
        },
        {
          "output_type": "display_data",
          "data": {
            "text/plain": [
              "<Figure size 600x600 with 1 Axes>"
            ],
            "image/png": "[encoded data removed]"
          },
          "metadata": {}
        }
      ]
    },
    {
      "cell_type": "markdown",
      "source": [
        "## Data Preprocessing"
      ],
      "metadata": {
        "id": "XXwP8wtmUUpE"
      }
    },
    {
      "cell_type": "markdown",
      "source": [
        "Add a new column for the amount of days the convict was in jail"
      ],
      "metadata": {
        "id": "na-J2AlzdsKg"
      }
    },
    {
      "cell_type": "code",
      "source": [
        "# Create a copy of the dataset\n",
        "new_df = df.copy()\n",
        "\n",
        "# Convert 'c_jail_in' and 'c_jail_out' to datetime format\n",
        "new_df['c_jail_in'] = pd.to_datetime(new_df['c_jail_in']).dt.date\n",
        "new_df['c_jail_out'] = pd.to_datetime(new_df['c_jail_out']).dt.date\n",
        "\n",
        "# Calculate the difference between the two columns and assign it to 'days_jailed'\n",
        "new_df['days_jailed'] = (new_df['c_jail_out'] - new_df['c_jail_in']).dt.days\n",
        "\n",
        "# Replace all NaN values in 'days_jailed' column with 0.0\n",
        "new_df['days_jailed'] = new_df['days_jailed'].fillna(0.0)\n",
        "\n",
        "new_df = new_df.drop('c_jail_in', axis=1)\n",
        "new_df = new_df.drop('c_jail_out', axis=1)\n",
        "\n",
        "new_df.head()"
      ],
      "metadata": {
        "colab": {
          "base_uri": "https://localhost:8080/",
          "height": 280
        },
        "id": "ITXRbqbddnQC",
        "outputId": "6d9cb7bf-6922-4e17-c9c4-1eaed93e6ec6"
      },
      "execution_count": null,
      "outputs": [
        {
          "output_type": "execute_result",
          "data": {
            "text/plain": [
              "   id                name   first         last compas_screening_date   sex  \\\n",
              "0   1    miguel hernandez  miguel    hernandez            2013-08-14  Male   \n",
              "1   3         kevon dixon   kevon        dixon            2013-01-27  Male   \n",
              "2   4            ed philo      ed        philo            2013-04-14  Male   \n",
              "3   5         marcu brown   marcu        brown            2013-01-13  Male   \n",
              "4   6  bouthy pierrelouis  bouthy  pierrelouis            2013-03-26  Male   \n",
              "\n",
              "          dob  age          age_cat              race  ...  v_score_text  \\\n",
              "0  1947-04-18   69  Greater than 45             Other  ...           Low   \n",
              "1  1982-01-22   34          25 - 45  African-American  ...           Low   \n",
              "2  1991-05-14   24     Less than 25  African-American  ...           Low   \n",
              "3  1993-01-21   23     Less than 25  African-American  ...        Medium   \n",
              "4  1973-01-22   43          25 - 45             Other  ...           Low   \n",
              "\n",
              "   v_screening_date  in_custody  out_custody  priors_count.1  start   end  \\\n",
              "0        2013-08-14  2014-07-07   2014-07-14               0      0   327   \n",
              "1        2013-01-27  2013-01-26   2013-02-05               0      9   159   \n",
              "2        2013-04-14  2013-06-16   2013-06-16               4      0    63   \n",
              "3        2013-01-13         NaN          NaN               1      0  1174   \n",
              "4        2013-03-26         NaN          NaN               2      0  1102   \n",
              "\n",
              "  event two_year_recid  days_jailed  \n",
              "0     0              0          1.0  \n",
              "1     1              1         10.0  \n",
              "2     0              1          1.0  \n",
              "3     0              0          0.0  \n",
              "4     0              0          0.0  \n",
              "\n",
              "[5 rows x 52 columns]"
            ],
            "text/html": [
              "\n",
              "  <div id=\"df-61a774f4-82a2-4813-a404-b5eade6094d6\">\n",
              "    <div class=\"colab-df-container\">\n",
              "      <div>\n",
              "<style scoped>\n",
              "    .dataframe tbody tr th:only-of-type {\n",
              "        vertical-align: middle;\n",
              "    }\n",
              "\n",
              "    .dataframe tbody tr th {\n",
              "        vertical-align: top;\n",
              "    }\n",
              "\n",
              "    .dataframe thead th {\n",
              "        text-align: right;\n",
              "    }\n",
              "</style>\n",
              "<table border=\"1\" class=\"dataframe\">\n",
              "  <thead>\n",
              "    <tr style=\"text-align: right;\">\n",
              "      <th></th>\n",
              "      <th>id</th>\n",
              "      <th>name</th>\n",
              "      <th>first</th>\n",
              "      <th>last</th>\n",
              "      <th>compas_screening_date</th>\n",
              "      <th>sex</th>\n",
              "      <th>dob</th>\n",
              "      <th>age</th>\n",
              "      <th>age_cat</th>\n",
              "      <th>race</th>\n",
              "      <th>...</th>\n",
              "      <th>v_score_text</th>\n",
              "      <th>v_screening_date</th>\n",
              "      <th>in_custody</th>\n",
              "      <th>out_custody</th>\n",
              "      <th>priors_count.1</th>\n",
              "      <th>start</th>\n",
              "      <th>end</th>\n",
              "      <th>event</th>\n",
              "      <th>two_year_recid</th>\n",
              "      <th>days_jailed</th>\n",
              "    </tr>\n",
              "  </thead>\n",
              "  <tbody>\n",
              "    <tr>\n",
              "      <th>0</th>\n",
              "      <td>1</td>\n",
              "      <td>miguel hernandez</td>\n",
              "      <td>miguel</td>\n",
              "      <td>hernandez</td>\n",
              "      <td>2013-08-14</td>\n",
              "      <td>Male</td>\n",
              "      <td>1947-04-18</td>\n",
              "      <td>69</td>\n",
              "      <td>Greater than 45</td>\n",
              "      <td>Other</td>\n",
              "      <td>...</td>\n",
              "      <td>Low</td>\n",
              "      <td>2013-08-14</td>\n",
              "      <td>2014-07-07</td>\n",
              "      <td>2014-07-14</td>\n",
              "      <td>0</td>\n",
              "      <td>0</td>\n",
              "      <td>327</td>\n",
              "      <td>0</td>\n",
              "      <td>0</td>\n",
              "      <td>1.0</td>\n",
              "    </tr>\n",
              "    <tr>\n",
              "      <th>1</th>\n",
              "      <td>3</td>\n",
              "      <td>kevon dixon</td>\n",
              "      <td>kevon</td>\n",
              "      <td>dixon</td>\n",
              "      <td>2013-01-27</td>\n",
              "      <td>Male</td>\n",
              "      <td>1982-01-22</td>\n",
              "      <td>34</td>\n",
              "      <td>25 - 45</td>\n",
              "      <td>African-American</td>\n",
              "      <td>...</td>\n",
              "      <td>Low</td>\n",
              "      <td>2013-01-27</td>\n",
              "      <td>2013-01-26</td>\n",
              "      <td>2013-02-05</td>\n",
              "      <td>0</td>\n",
              "      <td>9</td>\n",
              "      <td>159</td>\n",
              "      <td>1</td>\n",
              "      <td>1</td>\n",
              "      <td>10.0</td>\n",
              "    </tr>\n",
              "    <tr>\n",
              "      <th>2</th>\n",
              "      <td>4</td>\n",
              "      <td>ed philo</td>\n",
              "      <td>ed</td>\n",
              "      <td>philo</td>\n",
              "      <td>2013-04-14</td>\n",
              "      <td>Male</td>\n",
              "      <td>1991-05-14</td>\n",
              "      <td>24</td>\n",
              "      <td>Less than 25</td>\n",
              "      <td>African-American</td>\n",
              "      <td>...</td>\n",
              "      <td>Low</td>\n",
              "      <td>2013-04-14</td>\n",
              "      <td>2013-06-16</td>\n",
              "      <td>2013-06-16</td>\n",
              "      <td>4</td>\n",
              "      <td>0</td>\n",
              "      <td>63</td>\n",
              "      <td>0</td>\n",
              "      <td>1</td>\n",
              "      <td>1.0</td>\n",
              "    </tr>\n",
              "    <tr>\n",
              "      <th>3</th>\n",
              "      <td>5</td>\n",
              "      <td>marcu brown</td>\n",
              "      <td>marcu</td>\n",
              "      <td>brown</td>\n",
              "      <td>2013-01-13</td>\n",
              "      <td>Male</td>\n",
              "      <td>1993-01-21</td>\n",
              "      <td>23</td>\n",
              "      <td>Less than 25</td>\n",
              "      <td>African-American</td>\n",
              "      <td>...</td>\n",
              "      <td>Medium</td>\n",
              "      <td>2013-01-13</td>\n",
              "      <td>NaN</td>\n",
              "      <td>NaN</td>\n",
              "      <td>1</td>\n",
              "      <td>0</td>\n",
              "      <td>1174</td>\n",
              "      <td>0</td>\n",
              "      <td>0</td>\n",
              "      <td>0.0</td>\n",
              "    </tr>\n",
              "    <tr>\n",
              "      <th>4</th>\n",
              "      <td>6</td>\n",
              "      <td>bouthy pierrelouis</td>\n",
              "      <td>bouthy</td>\n",
              "      <td>pierrelouis</td>\n",
              "      <td>2013-03-26</td>\n",
              "      <td>Male</td>\n",
              "      <td>1973-01-22</td>\n",
              "      <td>43</td>\n",
              "      <td>25 - 45</td>\n",
              "      <td>Other</td>\n",
              "      <td>...</td>\n",
              "      <td>Low</td>\n",
              "      <td>2013-03-26</td>\n",
              "      <td>NaN</td>\n",
              "      <td>NaN</td>\n",
              "      <td>2</td>\n",
              "      <td>0</td>\n",
              "      <td>1102</td>\n",
              "      <td>0</td>\n",
              "      <td>0</td>\n",
              "      <td>0.0</td>\n",
              "    </tr>\n",
              "  </tbody>\n",
              "</table>\n",
              "<p>5 rows × 52 columns</p>\n",
              "</div>\n",
              "      <button class=\"colab-df-convert\" onclick=\"convertToInteractive('df-61a774f4-82a2-4813-a404-b5eade6094d6')\"\n",
              "              title=\"Convert this dataframe to an interactive table.\"\n",
              "              style=\"display:none;\">\n",
              "        \n",
              "  <svg xmlns=\"http://www.w3.org/2000/svg\" height=\"24px\"viewBox=\"0 0 24 24\"\n",
              "       width=\"24px\">\n",
              "    <path d=\"M0 0h24v24H0V0z\" fill=\"none\"/>\n",
              "    <path d=\"M18.56 5.44l.94 2.06.94-2.06 2.06-.94-2.06-.94-.94-2.06-.94 2.06-2.06.94zm-11 1L8.5 8.5l.94-2.06 2.06-.94-2.06-.94L8.5 2.5l-.94 2.06-2.06.94zm10 10l.94 2.06.94-2.06 2.06-.94-2.06-.94-.94-2.06-.94 2.06-2.06.94z\"/><path d=\"M17.41 7.96l-1.37-1.37c-.4-.4-.92-.59-1.43-.59-.52 0-1.04.2-1.43.59L10.3 9.45l-7.72 7.72c-.78.78-.78 2.05 0 2.83L4 21.41c.39.39.9.59 1.41.59.51 0 1.02-.2 1.41-.59l7.78-7.78 2.81-2.81c.8-.78.8-2.07 0-2.86zM5.41 20L4 18.59l7.72-7.72 1.47 1.35L5.41 20z\"/>\n",
              "  </svg>\n",
              "      </button>\n",
              "      \n",
              "  <style>\n",
              "    .colab-df-container {\n",
              "      display:flex;\n",
              "      flex-wrap:wrap;\n",
              "      gap: 12px;\n",
              "    }\n",
              "\n",
              "    .colab-df-convert {\n",
              "      background-color: #E8F0FE;\n",
              "      border: none;\n",
              "      border-radius: 50%;\n",
              "      cursor: pointer;\n",
              "      display: none;\n",
              "      fill: #1967D2;\n",
              "      height: 32px;\n",
              "      padding: 0 0 0 0;\n",
              "      width: 32px;\n",
              "    }\n",
              "\n",
              "    .colab-df-convert:hover {\n",
              "      background-color: #E2EBFA;\n",
              "      box-shadow: 0px 1px 2px rgba(60, 64, 67, 0.3), 0px 1px 3px 1px rgba(60, 64, 67, 0.15);\n",
              "      fill: #174EA6;\n",
              "    }\n",
              "\n",
              "    [theme=dark] .colab-df-convert {\n",
              "      background-color: #3B4455;\n",
              "      fill: #D2E3FC;\n",
              "    }\n",
              "\n",
              "    [theme=dark] .colab-df-convert:hover {\n",
              "      background-color: #434B5C;\n",
              "      box-shadow: 0px 1px 3px 1px rgba(0, 0, 0, 0.15);\n",
              "      filter: drop-shadow(0px 1px 2px rgba(0, 0, 0, 0.3));\n",
              "      fill: #FFFFFF;\n",
              "    }\n",
              "  </style>\n",
              "\n",
              "      <script>\n",
              "        const buttonEl =\n",
              "          document.querySelector('#df-61a774f4-82a2-4813-a404-b5eade6094d6 button.colab-df-convert');\n",
              "        buttonEl.style.display =\n",
              "          google.colab.kernel.accessAllowed ? 'block' : 'none';\n",
              "\n",
              "        async function convertToInteractive(key) {\n",
              "          const element = document.querySelector('#df-61a774f4-82a2-4813-a404-b5eade6094d6');\n",
              "          const dataTable =\n",
              "            await google.colab.kernel.invokeFunction('convertToInteractive',\n",
              "                                                     [key], {});\n",
              "          if (!dataTable) return;\n",
              "\n",
              "          const docLinkHtml = 'Like what you see? Visit the ' +\n",
              "            '<a target=\"_blank\" href=https://colab.research.google.com/notebooks/data_table.ipynb>data table notebook</a>'\n",
              "            + ' to learn more about interactive tables.';\n",
              "          element.innerHTML = '';\n",
              "          dataTable['output_type'] = 'display_data';\n",
              "          await google.colab.output.renderOutput(dataTable, element);\n",
              "          const docLink = document.createElement('div');\n",
              "          docLink.innerHTML = docLinkHtml;\n",
              "          element.appendChild(docLink);\n",
              "        }\n",
              "      </script>\n",
              "    </div>\n",
              "  </div>\n",
              "  "
            ]
          },
          "metadata": {},
          "execution_count": 4
        }
      ]
    },
    {
      "cell_type": "markdown",
      "source": [
        "Dropping excessive columns"
      ],
      "metadata": {
        "id": "vUTAJ1cyUbEF"
      }
    },
    {
      "cell_type": "code",
      "source": [
        "import pandas as pd\n",
        "\n",
        "# Select and filter the relevant columns\n",
        "new_df = new_df[['age', 'c_charge_degree', 'race', 'age_cat', 'score_text', 'sex', 'priors_count',\n",
        "               'days_b_screening_arrest', 'decile_score','days_jailed', 'is_recid']]\n",
        "new_df = new_df[(new_df['days_b_screening_arrest'] <= 30) & (new_df['days_b_screening_arrest'] >= -30) & (new_df['is_recid'] != -1)\n",
        "        & (new_df['c_charge_degree'] != 'O') & (new_df['score_text'] != 'N/A')]\n",
        "\n",
        "# Display the size of the filtered DataFrame\n",
        "print(\"Shape of filtered data: \",new_df.shape)"
      ],
      "metadata": {
        "colab": {
          "base_uri": "https://localhost:8080/"
        },
        "id": "OGG4I9Rm73zk",
        "outputId": "0fb2a88d-6dce-452b-ae6e-9d67084901f7"
      },
      "execution_count": null,
      "outputs": [
        {
          "output_type": "stream",
          "name": "stdout",
          "text": [
            "Shape of filtered data:  (6172, 11)\n"
          ]
        }
      ]
    },
    {
      "cell_type": "code",
      "source": [
        "extracted_df = new_df.copy()\n",
        "extracted_df"
      ],
      "metadata": {
        "colab": {
          "base_uri": "https://localhost:8080/",
          "height": 424
        },
        "id": "7NyLOrF-_I7-",
        "outputId": "3b72926b-660e-49fc-f61e-5c44db431fe4"
      },
      "execution_count": null,
      "outputs": [
        {
          "output_type": "execute_result",
          "data": {
            "text/plain": [
              "      age c_charge_degree              race          age_cat score_text  \\\n",
              "0      69               F             Other  Greater than 45        Low   \n",
              "1      34               F  African-American          25 - 45        Low   \n",
              "2      24               F  African-American     Less than 25        Low   \n",
              "5      44               M             Other          25 - 45        Low   \n",
              "6      41               F         Caucasian          25 - 45     Medium   \n",
              "...   ...             ...               ...              ...        ...   \n",
              "7209   23               F  African-American     Less than 25     Medium   \n",
              "7210   23               F  African-American     Less than 25        Low   \n",
              "7211   57               F             Other  Greater than 45        Low   \n",
              "7212   33               M  African-American          25 - 45        Low   \n",
              "7213   23               F          Hispanic     Less than 25        Low   \n",
              "\n",
              "         sex  priors_count  days_b_screening_arrest  decile_score  \\\n",
              "0       Male             0                     -1.0             1   \n",
              "1       Male             0                     -1.0             3   \n",
              "2       Male             4                     -1.0             4   \n",
              "5       Male             0                      0.0             1   \n",
              "6       Male            14                     -1.0             6   \n",
              "...      ...           ...                      ...           ...   \n",
              "7209    Male             0                     -1.0             7   \n",
              "7210    Male             0                     -1.0             3   \n",
              "7211    Male             0                     -1.0             1   \n",
              "7212  Female             3                     -1.0             2   \n",
              "7213  Female             2                     -2.0             4   \n",
              "\n",
              "      days_jailed  is_recid  \n",
              "0             1.0         0  \n",
              "1            10.0         1  \n",
              "2             1.0         1  \n",
              "5             1.0         0  \n",
              "6             6.0         1  \n",
              "...           ...       ...  \n",
              "7209          2.0         0  \n",
              "7210          2.0         0  \n",
              "7211          1.0         0  \n",
              "7212          1.0         0  \n",
              "7213          2.0         1  \n",
              "\n",
              "[6172 rows x 11 columns]"
            ],
            "text/html": [
              "\n",
              "  <div id=\"df-68785588-48ce-4170-a488-10107f3fa548\">\n",
              "    <div class=\"colab-df-container\">\n",
              "      <div>\n",
              "<style scoped>\n",
              "    .dataframe tbody tr th:only-of-type {\n",
              "        vertical-align: middle;\n",
              "    }\n",
              "\n",
              "    .dataframe tbody tr th {\n",
              "        vertical-align: top;\n",
              "    }\n",
              "\n",
              "    .dataframe thead th {\n",
              "        text-align: right;\n",
              "    }\n",
              "</style>\n",
              "<table border=\"1\" class=\"dataframe\">\n",
              "  <thead>\n",
              "    <tr style=\"text-align: right;\">\n",
              "      <th></th>\n",
              "      <th>age</th>\n",
              "      <th>c_charge_degree</th>\n",
              "      <th>race</th>\n",
              "      <th>age_cat</th>\n",
              "      <th>score_text</th>\n",
              "      <th>sex</th>\n",
              "      <th>priors_count</th>\n",
              "      <th>days_b_screening_arrest</th>\n",
              "      <th>decile_score</th>\n",
              "      <th>days_jailed</th>\n",
              "      <th>is_recid</th>\n",
              "    </tr>\n",
              "  </thead>\n",
              "  <tbody>\n",
              "    <tr>\n",
              "      <th>0</th>\n",
              "      <td>69</td>\n",
              "      <td>F</td>\n",
              "      <td>Other</td>\n",
              "      <td>Greater than 45</td>\n",
              "      <td>Low</td>\n",
              "      <td>Male</td>\n",
              "      <td>0</td>\n",
              "      <td>-1.0</td>\n",
              "      <td>1</td>\n",
              "      <td>1.0</td>\n",
              "      <td>0</td>\n",
              "    </tr>\n",
              "    <tr>\n",
              "      <th>1</th>\n",
              "      <td>34</td>\n",
              "      <td>F</td>\n",
              "      <td>African-American</td>\n",
              "      <td>25 - 45</td>\n",
              "      <td>Low</td>\n",
              "      <td>Male</td>\n",
              "      <td>0</td>\n",
              "      <td>-1.0</td>\n",
              "      <td>3</td>\n",
              "      <td>10.0</td>\n",
              "      <td>1</td>\n",
              "    </tr>\n",
              "    <tr>\n",
              "      <th>2</th>\n",
              "      <td>24</td>\n",
              "      <td>F</td>\n",
              "      <td>African-American</td>\n",
              "      <td>Less than 25</td>\n",
              "      <td>Low</td>\n",
              "      <td>Male</td>\n",
              "      <td>4</td>\n",
              "      <td>-1.0</td>\n",
              "      <td>4</td>\n",
              "      <td>1.0</td>\n",
              "      <td>1</td>\n",
              "    </tr>\n",
              "    <tr>\n",
              "      <th>5</th>\n",
              "      <td>44</td>\n",
              "      <td>M</td>\n",
              "      <td>Other</td>\n",
              "      <td>25 - 45</td>\n",
              "      <td>Low</td>\n",
              "      <td>Male</td>\n",
              "      <td>0</td>\n",
              "      <td>0.0</td>\n",
              "      <td>1</td>\n",
              "      <td>1.0</td>\n",
              "      <td>0</td>\n",
              "    </tr>\n",
              "    <tr>\n",
              "      <th>6</th>\n",
              "      <td>41</td>\n",
              "      <td>F</td>\n",
              "      <td>Caucasian</td>\n",
              "      <td>25 - 45</td>\n",
              "      <td>Medium</td>\n",
              "      <td>Male</td>\n",
              "      <td>14</td>\n",
              "      <td>-1.0</td>\n",
              "      <td>6</td>\n",
              "      <td>6.0</td>\n",
              "      <td>1</td>\n",
              "    </tr>\n",
              "    <tr>\n",
              "      <th>...</th>\n",
              "      <td>...</td>\n",
              "      <td>...</td>\n",
              "      <td>...</td>\n",
              "      <td>...</td>\n",
              "      <td>...</td>\n",
              "      <td>...</td>\n",
              "      <td>...</td>\n",
              "      <td>...</td>\n",
              "      <td>...</td>\n",
              "      <td>...</td>\n",
              "      <td>...</td>\n",
              "    </tr>\n",
              "    <tr>\n",
              "      <th>7209</th>\n",
              "      <td>23</td>\n",
              "      <td>F</td>\n",
              "      <td>African-American</td>\n",
              "      <td>Less than 25</td>\n",
              "      <td>Medium</td>\n",
              "      <td>Male</td>\n",
              "      <td>0</td>\n",
              "      <td>-1.0</td>\n",
              "      <td>7</td>\n",
              "      <td>2.0</td>\n",
              "      <td>0</td>\n",
              "    </tr>\n",
              "    <tr>\n",
              "      <th>7210</th>\n",
              "      <td>23</td>\n",
              "      <td>F</td>\n",
              "      <td>African-American</td>\n",
              "      <td>Less than 25</td>\n",
              "      <td>Low</td>\n",
              "      <td>Male</td>\n",
              "      <td>0</td>\n",
              "      <td>-1.0</td>\n",
              "      <td>3</td>\n",
              "      <td>2.0</td>\n",
              "      <td>0</td>\n",
              "    </tr>\n",
              "    <tr>\n",
              "      <th>7211</th>\n",
              "      <td>57</td>\n",
              "      <td>F</td>\n",
              "      <td>Other</td>\n",
              "      <td>Greater than 45</td>\n",
              "      <td>Low</td>\n",
              "      <td>Male</td>\n",
              "      <td>0</td>\n",
              "      <td>-1.0</td>\n",
              "      <td>1</td>\n",
              "      <td>1.0</td>\n",
              "      <td>0</td>\n",
              "    </tr>\n",
              "    <tr>\n",
              "      <th>7212</th>\n",
              "      <td>33</td>\n",
              "      <td>M</td>\n",
              "      <td>African-American</td>\n",
              "      <td>25 - 45</td>\n",
              "      <td>Low</td>\n",
              "      <td>Female</td>\n",
              "      <td>3</td>\n",
              "      <td>-1.0</td>\n",
              "      <td>2</td>\n",
              "      <td>1.0</td>\n",
              "      <td>0</td>\n",
              "    </tr>\n",
              "    <tr>\n",
              "      <th>7213</th>\n",
              "      <td>23</td>\n",
              "      <td>F</td>\n",
              "      <td>Hispanic</td>\n",
              "      <td>Less than 25</td>\n",
              "      <td>Low</td>\n",
              "      <td>Female</td>\n",
              "      <td>2</td>\n",
              "      <td>-2.0</td>\n",
              "      <td>4</td>\n",
              "      <td>2.0</td>\n",
              "      <td>1</td>\n",
              "    </tr>\n",
              "  </tbody>\n",
              "</table>\n",
              "<p>6172 rows × 11 columns</p>\n",
              "</div>\n",
              "      <button class=\"colab-df-convert\" onclick=\"convertToInteractive('df-68785588-48ce-4170-a488-10107f3fa548')\"\n",
              "              title=\"Convert this dataframe to an interactive table.\"\n",
              "              style=\"display:none;\">\n",
              "        \n",
              "  <svg xmlns=\"http://www.w3.org/2000/svg\" height=\"24px\"viewBox=\"0 0 24 24\"\n",
              "       width=\"24px\">\n",
              "    <path d=\"M0 0h24v24H0V0z\" fill=\"none\"/>\n",
              "    <path d=\"M18.56 5.44l.94 2.06.94-2.06 2.06-.94-2.06-.94-.94-2.06-.94 2.06-2.06.94zm-11 1L8.5 8.5l.94-2.06 2.06-.94-2.06-.94L8.5 2.5l-.94 2.06-2.06.94zm10 10l.94 2.06.94-2.06 2.06-.94-2.06-.94-.94-2.06-.94 2.06-2.06.94z\"/><path d=\"M17.41 7.96l-1.37-1.37c-.4-.4-.92-.59-1.43-.59-.52 0-1.04.2-1.43.59L10.3 9.45l-7.72 7.72c-.78.78-.78 2.05 0 2.83L4 21.41c.39.39.9.59 1.41.59.51 0 1.02-.2 1.41-.59l7.78-7.78 2.81-2.81c.8-.78.8-2.07 0-2.86zM5.41 20L4 18.59l7.72-7.72 1.47 1.35L5.41 20z\"/>\n",
              "  </svg>\n",
              "      </button>\n",
              "      \n",
              "  <style>\n",
              "    .colab-df-container {\n",
              "      display:flex;\n",
              "      flex-wrap:wrap;\n",
              "      gap: 12px;\n",
              "    }\n",
              "\n",
              "    .colab-df-convert {\n",
              "      background-color: #E8F0FE;\n",
              "      border: none;\n",
              "      border-radius: 50%;\n",
              "      cursor: pointer;\n",
              "      display: none;\n",
              "      fill: #1967D2;\n",
              "      height: 32px;\n",
              "      padding: 0 0 0 0;\n",
              "      width: 32px;\n",
              "    }\n",
              "\n",
              "    .colab-df-convert:hover {\n",
              "      background-color: #E2EBFA;\n",
              "      box-shadow: 0px 1px 2px rgba(60, 64, 67, 0.3), 0px 1px 3px 1px rgba(60, 64, 67, 0.15);\n",
              "      fill: #174EA6;\n",
              "    }\n",
              "\n",
              "    [theme=dark] .colab-df-convert {\n",
              "      background-color: #3B4455;\n",
              "      fill: #D2E3FC;\n",
              "    }\n",
              "\n",
              "    [theme=dark] .colab-df-convert:hover {\n",
              "      background-color: #434B5C;\n",
              "      box-shadow: 0px 1px 3px 1px rgba(0, 0, 0, 0.15);\n",
              "      filter: drop-shadow(0px 1px 2px rgba(0, 0, 0, 0.3));\n",
              "      fill: #FFFFFF;\n",
              "    }\n",
              "  </style>\n",
              "\n",
              "      <script>\n",
              "        const buttonEl =\n",
              "          document.querySelector('#df-68785588-48ce-4170-a488-10107f3fa548 button.colab-df-convert');\n",
              "        buttonEl.style.display =\n",
              "          google.colab.kernel.accessAllowed ? 'block' : 'none';\n",
              "\n",
              "        async function convertToInteractive(key) {\n",
              "          const element = document.querySelector('#df-68785588-48ce-4170-a488-10107f3fa548');\n",
              "          const dataTable =\n",
              "            await google.colab.kernel.invokeFunction('convertToInteractive',\n",
              "                                                     [key], {});\n",
              "          if (!dataTable) return;\n",
              "\n",
              "          const docLinkHtml = 'Like what you see? Visit the ' +\n",
              "            '<a target=\"_blank\" href=https://colab.research.google.com/notebooks/data_table.ipynb>data table notebook</a>'\n",
              "            + ' to learn more about interactive tables.';\n",
              "          element.innerHTML = '';\n",
              "          dataTable['output_type'] = 'display_data';\n",
              "          await google.colab.output.renderOutput(dataTable, element);\n",
              "          const docLink = document.createElement('div');\n",
              "          docLink.innerHTML = docLinkHtml;\n",
              "          element.appendChild(docLink);\n",
              "        }\n",
              "      </script>\n",
              "    </div>\n",
              "  </div>\n",
              "  "
            ]
          },
          "metadata": {},
          "execution_count": 6
        }
      ]
    },
    {
      "cell_type": "markdown",
      "source": [
        "Converting Text column to Numbers"
      ],
      "metadata": {
        "id": "ET_qN4e3UkSI"
      }
    },
    {
      "cell_type": "code",
      "source": [
        "# Column Sex: Male to 1 and Female to -1\n",
        "# Define a dictionary that maps the values in the 'sex' column to the desired numerical values\n",
        "sex_map = {'Male': 1, 'Female': 0}\n",
        "# Use the 'map' function to apply the mapping to the 'sex' column\n",
        "extracted_df['sex'] = extracted_df['sex'].map(sex_map)\n",
        "\n",
        "# Column Age Category: Assign values 1 2 3\n",
        "age_map = {'Less than 25': 1, '25 - 45': 2, 'Greater than 45': 3}\n",
        "extracted_df['age_cat'] = extracted_df['age_cat'].map(age_map)\n",
        "\n",
        "# Column Race: assigning values 1 to 6\n",
        "race_map = {'African-American': 1, 'Caucasian': 2, 'Hispanic': 3, 'Other': 4, 'Asian': 5, 'Native American': 6}\n",
        "extracted_df['race'] = extracted_df['race'].map(race_map)\n",
        "\n",
        "# Column charge degree: misdemeanor to 1 and felony to 0\n",
        "c_charge_map = {'M': 1, 'F': 0}\n",
        "extracted_df['c_charge_degree'] = extracted_df['c_charge_degree'].map(c_charge_map)\n",
        "\n",
        "# Column score text: assign Low: 0, Medium&High: 1\n",
        "score_map = {'Low': 0, 'Medium': 1, 'High': 1}\n",
        "extracted_df['score_text'] = extracted_df['score_text'].map(score_map)\n",
        "\n",
        "# Replace all NaN values in the dataframe with 0\n",
        "extracted_df.fillna(0, inplace=True)\n",
        "\n",
        "extracted_df.head()"
      ],
      "metadata": {
        "id": "o8jTKoGrUUHO",
        "colab": {
          "base_uri": "https://localhost:8080/",
          "height": 206
        },
        "outputId": "5fa631f9-b062-4ae3-a2f0-3eb96fcaba04"
      },
      "execution_count": null,
      "outputs": [
        {
          "output_type": "execute_result",
          "data": {
            "text/plain": [
              "   age  c_charge_degree  race  age_cat  score_text  sex  priors_count  \\\n",
              "0   69                0     4        3           0    1             0   \n",
              "1   34                0     1        2           0    1             0   \n",
              "2   24                0     1        1           0    1             4   \n",
              "5   44                1     4        2           0    1             0   \n",
              "6   41                0     2        2           1    1            14   \n",
              "\n",
              "   days_b_screening_arrest  decile_score  days_jailed  is_recid  \n",
              "0                     -1.0             1          1.0         0  \n",
              "1                     -1.0             3         10.0         1  \n",
              "2                     -1.0             4          1.0         1  \n",
              "5                      0.0             1          1.0         0  \n",
              "6                     -1.0             6          6.0         1  "
            ],
            "text/html": [
              "\n",
              "  <div id=\"df-0537ba8f-5342-4ca7-9a72-7d18a6d58212\">\n",
              "    <div class=\"colab-df-container\">\n",
              "      <div>\n",
              "<style scoped>\n",
              "    .dataframe tbody tr th:only-of-type {\n",
              "        vertical-align: middle;\n",
              "    }\n",
              "\n",
              "    .dataframe tbody tr th {\n",
              "        vertical-align: top;\n",
              "    }\n",
              "\n",
              "    .dataframe thead th {\n",
              "        text-align: right;\n",
              "    }\n",
              "</style>\n",
              "<table border=\"1\" class=\"dataframe\">\n",
              "  <thead>\n",
              "    <tr style=\"text-align: right;\">\n",
              "      <th></th>\n",
              "      <th>age</th>\n",
              "      <th>c_charge_degree</th>\n",
              "      <th>race</th>\n",
              "      <th>age_cat</th>\n",
              "      <th>score_text</th>\n",
              "      <th>sex</th>\n",
              "      <th>priors_count</th>\n",
              "      <th>days_b_screening_arrest</th>\n",
              "      <th>decile_score</th>\n",
              "      <th>days_jailed</th>\n",
              "      <th>is_recid</th>\n",
              "    </tr>\n",
              "  </thead>\n",
              "  <tbody>\n",
              "    <tr>\n",
              "      <th>0</th>\n",
              "      <td>69</td>\n",
              "      <td>0</td>\n",
              "      <td>4</td>\n",
              "      <td>3</td>\n",
              "      <td>0</td>\n",
              "      <td>1</td>\n",
              "      <td>0</td>\n",
              "      <td>-1.0</td>\n",
              "      <td>1</td>\n",
              "      <td>1.0</td>\n",
              "      <td>0</td>\n",
              "    </tr>\n",
              "    <tr>\n",
              "      <th>1</th>\n",
              "      <td>34</td>\n",
              "      <td>0</td>\n",
              "      <td>1</td>\n",
              "      <td>2</td>\n",
              "      <td>0</td>\n",
              "      <td>1</td>\n",
              "      <td>0</td>\n",
              "      <td>-1.0</td>\n",
              "      <td>3</td>\n",
              "      <td>10.0</td>\n",
              "      <td>1</td>\n",
              "    </tr>\n",
              "    <tr>\n",
              "      <th>2</th>\n",
              "      <td>24</td>\n",
              "      <td>0</td>\n",
              "      <td>1</td>\n",
              "      <td>1</td>\n",
              "      <td>0</td>\n",
              "      <td>1</td>\n",
              "      <td>4</td>\n",
              "      <td>-1.0</td>\n",
              "      <td>4</td>\n",
              "      <td>1.0</td>\n",
              "      <td>1</td>\n",
              "    </tr>\n",
              "    <tr>\n",
              "      <th>5</th>\n",
              "      <td>44</td>\n",
              "      <td>1</td>\n",
              "      <td>4</td>\n",
              "      <td>2</td>\n",
              "      <td>0</td>\n",
              "      <td>1</td>\n",
              "      <td>0</td>\n",
              "      <td>0.0</td>\n",
              "      <td>1</td>\n",
              "      <td>1.0</td>\n",
              "      <td>0</td>\n",
              "    </tr>\n",
              "    <tr>\n",
              "      <th>6</th>\n",
              "      <td>41</td>\n",
              "      <td>0</td>\n",
              "      <td>2</td>\n",
              "      <td>2</td>\n",
              "      <td>1</td>\n",
              "      <td>1</td>\n",
              "      <td>14</td>\n",
              "      <td>-1.0</td>\n",
              "      <td>6</td>\n",
              "      <td>6.0</td>\n",
              "      <td>1</td>\n",
              "    </tr>\n",
              "  </tbody>\n",
              "</table>\n",
              "</div>\n",
              "      <button class=\"colab-df-convert\" onclick=\"convertToInteractive('df-0537ba8f-5342-4ca7-9a72-7d18a6d58212')\"\n",
              "              title=\"Convert this dataframe to an interactive table.\"\n",
              "              style=\"display:none;\">\n",
              "        \n",
              "  <svg xmlns=\"http://www.w3.org/2000/svg\" height=\"24px\"viewBox=\"0 0 24 24\"\n",
              "       width=\"24px\">\n",
              "    <path d=\"M0 0h24v24H0V0z\" fill=\"none\"/>\n",
              "    <path d=\"M18.56 5.44l.94 2.06.94-2.06 2.06-.94-2.06-.94-.94-2.06-.94 2.06-2.06.94zm-11 1L8.5 8.5l.94-2.06 2.06-.94-2.06-.94L8.5 2.5l-.94 2.06-2.06.94zm10 10l.94 2.06.94-2.06 2.06-.94-2.06-.94-.94-2.06-.94 2.06-2.06.94z\"/><path d=\"M17.41 7.96l-1.37-1.37c-.4-.4-.92-.59-1.43-.59-.52 0-1.04.2-1.43.59L10.3 9.45l-7.72 7.72c-.78.78-.78 2.05 0 2.83L4 21.41c.39.39.9.59 1.41.59.51 0 1.02-.2 1.41-.59l7.78-7.78 2.81-2.81c.8-.78.8-2.07 0-2.86zM5.41 20L4 18.59l7.72-7.72 1.47 1.35L5.41 20z\"/>\n",
              "  </svg>\n",
              "      </button>\n",
              "      \n",
              "  <style>\n",
              "    .colab-df-container {\n",
              "      display:flex;\n",
              "      flex-wrap:wrap;\n",
              "      gap: 12px;\n",
              "    }\n",
              "\n",
              "    .colab-df-convert {\n",
              "      background-color: #E8F0FE;\n",
              "      border: none;\n",
              "      border-radius: 50%;\n",
              "      cursor: pointer;\n",
              "      display: none;\n",
              "      fill: #1967D2;\n",
              "      height: 32px;\n",
              "      padding: 0 0 0 0;\n",
              "      width: 32px;\n",
              "    }\n",
              "\n",
              "    .colab-df-convert:hover {\n",
              "      background-color: #E2EBFA;\n",
              "      box-shadow: 0px 1px 2px rgba(60, 64, 67, 0.3), 0px 1px 3px 1px rgba(60, 64, 67, 0.15);\n",
              "      fill: #174EA6;\n",
              "    }\n",
              "\n",
              "    [theme=dark] .colab-df-convert {\n",
              "      background-color: #3B4455;\n",
              "      fill: #D2E3FC;\n",
              "    }\n",
              "\n",
              "    [theme=dark] .colab-df-convert:hover {\n",
              "      background-color: #434B5C;\n",
              "      box-shadow: 0px 1px 3px 1px rgba(0, 0, 0, 0.15);\n",
              "      filter: drop-shadow(0px 1px 2px rgba(0, 0, 0, 0.3));\n",
              "      fill: #FFFFFF;\n",
              "    }\n",
              "  </style>\n",
              "\n",
              "      <script>\n",
              "        const buttonEl =\n",
              "          document.querySelector('#df-0537ba8f-5342-4ca7-9a72-7d18a6d58212 button.colab-df-convert');\n",
              "        buttonEl.style.display =\n",
              "          google.colab.kernel.accessAllowed ? 'block' : 'none';\n",
              "\n",
              "        async function convertToInteractive(key) {\n",
              "          const element = document.querySelector('#df-0537ba8f-5342-4ca7-9a72-7d18a6d58212');\n",
              "          const dataTable =\n",
              "            await google.colab.kernel.invokeFunction('convertToInteractive',\n",
              "                                                     [key], {});\n",
              "          if (!dataTable) return;\n",
              "\n",
              "          const docLinkHtml = 'Like what you see? Visit the ' +\n",
              "            '<a target=\"_blank\" href=https://colab.research.google.com/notebooks/data_table.ipynb>data table notebook</a>'\n",
              "            + ' to learn more about interactive tables.';\n",
              "          element.innerHTML = '';\n",
              "          dataTable['output_type'] = 'display_data';\n",
              "          await google.colab.output.renderOutput(dataTable, element);\n",
              "          const docLink = document.createElement('div');\n",
              "          docLink.innerHTML = docLinkHtml;\n",
              "          element.appendChild(docLink);\n",
              "        }\n",
              "      </script>\n",
              "    </div>\n",
              "  </div>\n",
              "  "
            ]
          },
          "metadata": {},
          "execution_count": 7
        }
      ]
    },
    {
      "cell_type": "markdown",
      "source": [
        "Identifying Label column"
      ],
      "metadata": {
        "id": "i2-hP_SNXu-D"
      }
    },
    {
      "cell_type": "code",
      "source": [
        "X = extracted_df.drop('is_recid', axis=1)\n",
        "y = extracted_df['is_recid']"
      ],
      "metadata": {
        "id": "VoejQGyNXvs5"
      },
      "execution_count": null,
      "outputs": []
    },
    {
      "cell_type": "markdown",
      "source": [
        "Handling Class Imbalence"
      ],
      "metadata": {
        "id": "oZYnnyuW5xnE"
      }
    },
    {
      "cell_type": "code",
      "source": [
        "from imblearn.under_sampling import RandomUnderSampler\n",
        "\n",
        "# Assuming X is your feature matrix and y is your label column\n",
        "X, y = RandomUnderSampler(random_state=42).fit_resample(X, y)"
      ],
      "metadata": {
        "id": "RixIN_xB2kNT"
      },
      "execution_count": null,
      "outputs": []
    },
    {
      "cell_type": "markdown",
      "source": [
        "Splitting Data as Train (2/3rd) and Test (1/3rd)"
      ],
      "metadata": {
        "id": "em7NFMepX8qk"
      }
    },
    {
      "cell_type": "code",
      "source": [
        "from sklearn.model_selection import train_test_split\n",
        "\n",
        "# Split the dataset into training and testing sets\n",
        "X_train, X_test, y_train, y_test = train_test_split(X, y, test_size=0.333, random_state=42)"
      ],
      "metadata": {
        "id": "Ujk4G9USX9DS"
      },
      "execution_count": null,
      "outputs": []
    },
    {
      "cell_type": "markdown",
      "source": [
        "Scaling Data"
      ],
      "metadata": {
        "id": "BMUoFIQx52zO"
      }
    },
    {
      "cell_type": "code",
      "source": [
        "from sklearn.preprocessing import StandardScaler\n",
        "\n",
        "# Create a standard scaler object\n",
        "scaler = StandardScaler()\n",
        "\n",
        "# Fit the scaler to the training set and transform both training and testing sets\n",
        "X_train_scaled = scaler.fit_transform(X_train)\n",
        "X_test_scaled = scaler.transform(X_test)"
      ],
      "metadata": {
        "id": "rKJjcrIS52UJ"
      },
      "execution_count": null,
      "outputs": []
    },
    {
      "cell_type": "markdown",
      "source": [
        "## Data Visualization post Preprocessing"
      ],
      "metadata": {
        "id": "jYsw2QCPVGFl"
      }
    },
    {
      "cell_type": "markdown",
      "source": [
        "Determining Correlation"
      ],
      "metadata": {
        "id": "VOZ6u2n3Ai9U"
      }
    },
    {
      "cell_type": "code",
      "source": [
        "# Compute the correlation coefficient between each feature and \"is_recid\"\n",
        "correlations = extracted_df.corr()['is_recid'].sort_values(ascending=False)\n",
        "correlations"
      ],
      "metadata": {
        "colab": {
          "base_uri": "https://localhost:8080/"
        },
        "id": "rCtKH1af-vJX",
        "outputId": "9a11c514-a5ed-4e61-aa0f-41d06ddb2b6f"
      },
      "execution_count": null,
      "outputs": [
        {
          "output_type": "execute_result",
          "data": {
            "text/plain": [
              "is_recid                   1.000000\n",
              "decile_score               0.367186\n",
              "score_text                 0.315881\n",
              "priors_count               0.294522\n",
              "sex                        0.110840\n",
              "days_jailed                0.108367\n",
              "days_b_screening_arrest    0.072146\n",
              "c_charge_degree           -0.115557\n",
              "race                      -0.133499\n",
              "age_cat                   -0.160544\n",
              "age                       -0.194802\n",
              "Name: is_recid, dtype: float64"
            ]
          },
          "metadata": {},
          "execution_count": 24
        }
      ]
    },
    {
      "cell_type": "markdown",
      "source": [
        "Stacked bar plot visualization using is_recid due to its strongest correlation coefficient"
      ],
      "metadata": {
        "id": "Q6WqepBBA4A9"
      }
    },
    {
      "cell_type": "code",
      "source": [
        "import seaborn as sns\n",
        "\n",
        "# Create a stacked bar chart of \"is_recid\" by \"decile_score\"\n",
        "sns.histplot(extracted_df, x=\"is_recid\", hue=\"decile_score\", multiple=\"fill\")"
      ],
      "metadata": {
        "colab": {
          "base_uri": "https://localhost:8080/",
          "height": 476
        },
        "id": "1sblhdT0CsnD",
        "outputId": "300b1882-0572-45bf-ee01-e93303be506a"
      },
      "execution_count": null,
      "outputs": [
        {
          "output_type": "execute_result",
          "data": {
            "text/plain": [
              "<Axes: xlabel='is_recid', ylabel='Count'>"
            ]
          },
          "metadata": {},
          "execution_count": 33
        },
        {
          "output_type": "display_data",
          "data": {
            "text/plain": [
              "<Figure size 640x480 with 1 Axes>"
            ],
            "image/png": "[encoded data removed]"
          },
          "metadata": {}
        }
      ]
    },
    {
      "cell_type": "code",
      "source": [
        "import seaborn as sns\n",
        "\n",
        "# Create scatter plots for pairs of features\n",
        "sns.pairplot(extracted_df, vars=['race', 'decile_score', 'sex'])"
      ],
      "metadata": {
        "colab": {
          "base_uri": "https://localhost:8080/",
          "height": 775
        },
        "id": "oBDsMcxsE96w",
        "outputId": "7df508c6-5282-49ca-aeb4-447d64b90df4"
      },
      "execution_count": null,
      "outputs": [
        {
          "output_type": "execute_result",
          "data": {
            "text/plain": [
              "<seaborn.axisgrid.PairGrid at 0x7f502f75aa40>"
            ]
          },
          "metadata": {},
          "execution_count": 35
        },
        {
          "output_type": "display_data",
          "data": {
            "text/plain": [
              "<Figure size 750x750 with 12 Axes>"
            ],
            "image/png": "[encoded data removed]"
          },
          "metadata": {}
        }
      ]
    },
    {
      "cell_type": "markdown",
      "source": [
        "## Training Approach Identification\n",
        "\n",
        "Understanding whether to use Linear, Non Linear or Ensemble Models"
      ],
      "metadata": {
        "id": "ncOf7Rbt-uYb"
      }
    },
    {
      "cell_type": "markdown",
      "source": [
        "Scatter plot visualization using tsne dimentionality reduction"
      ],
      "metadata": {
        "id": "kQ6I6q6fJLyJ"
      }
    },
    {
      "cell_type": "code",
      "source": [
        "from sklearn.manifold import TSNE\n",
        "\n",
        "# Reduce the dimensionality of the data using t-SNE\n",
        "tsne = TSNE(n_components=2, random_state=42)\n",
        "X_reduced = tsne.fit_transform(X)\n",
        "\n",
        "# Create a scatter plot of the reduced data\n",
        "plt.scatter(X_reduced[:, 0], X_reduced[:, 1], c=y)\n",
        "plt.xlabel(\"Feature 1\")\n",
        "plt.ylabel(\"Feature 2\")\n",
        "plt.title(\"t-SNE visualization of the data\")\n",
        "plt.show()"
      ],
      "metadata": {
        "colab": {
          "base_uri": "https://localhost:8080/",
          "height": 477
        },
        "id": "xbbb_FqmGVFy",
        "outputId": "00e43571-80f1-4ac4-c96e-6ad7b62eb853"
      },
      "execution_count": null,
      "outputs": [
        {
          "output_type": "display_data",
          "data": {
            "text/plain": [
              "<Figure size 640x480 with 1 Axes>"
            ],
            "image/png": "[encoded data removed]"
          },
          "metadata": {}
        }
      ]
    },
    {
      "cell_type": "markdown",
      "source": [
        "## Training Models"
      ],
      "metadata": {
        "id": "yaBpKuYEYNnJ"
      }
    },
    {
      "cell_type": "markdown",
      "source": [
        "### Linear Classifiers"
      ],
      "metadata": {
        "id": "-dUbN0l9JtPI"
      }
    },
    {
      "cell_type": "markdown",
      "source": [
        "#### Model 1: Logistic Regression\n",
        "\n"
      ],
      "metadata": {
        "id": "KobNEaYoYTPM"
      }
    },
    {
      "cell_type": "code",
      "source": [
        "import pandas as pd\n",
        "from sklearn.linear_model import LogisticRegression\n",
        "from sklearn.metrics import accuracy_score\n",
        "\n",
        "# Create a logistic regression object\n",
        "logreg = LogisticRegression()\n",
        "\n",
        "# Train the logistic regression model on the training set\n",
        "logreg.fit(X_train_scaled, y_train)\n",
        "\n",
        "# Make predictions on the testing set\n",
        "y_pred = logreg.predict(X_test_scaled)\n",
        "\n",
        "# Calculate the accuracy of the model\n",
        "accuracy = accuracy_score(y_test, y_pred)\n",
        "print('Accuracy:', accuracy)"
      ],
      "metadata": {
        "id": "BgbArqelYNLi",
        "colab": {
          "base_uri": "https://localhost:8080/"
        },
        "outputId": "e4e8724e-3841-454f-d27d-07012d259a17"
      },
      "execution_count": null,
      "outputs": [
        {
          "output_type": "stream",
          "name": "stdout",
          "text": [
            "Accuracy: 0.6852409638554217\n"
          ]
        }
      ]
    },
    {
      "cell_type": "markdown",
      "source": [
        "#### Model 2: Support Vector Machines"
      ],
      "metadata": {
        "id": "6Q7_-DZDYvPR"
      }
    },
    {
      "cell_type": "code",
      "source": [
        "from sklearn.svm import SVC\n",
        "\n",
        "# Create an SVM object with a linear kernel\n",
        "svm = SVC(kernel='linear')\n",
        "\n",
        "# Train the SVM model on the training set\n",
        "svm.fit(X_train_scaled, y_train)\n",
        "\n",
        "# Make predictions on the testing set\n",
        "y_pred = svm.predict(X_test_scaled)\n",
        "\n",
        "# Calculate the accuracy of the model\n",
        "accuracy = accuracy_score(y_test, y_pred)\n",
        "print('Accuracy:', accuracy)"
      ],
      "metadata": {
        "id": "D5LXlIZWYvzm",
        "colab": {
          "base_uri": "https://localhost:8080/"
        },
        "outputId": "17694466-7481-4689-de0a-30e73a267eab"
      },
      "execution_count": null,
      "outputs": [
        {
          "output_type": "stream",
          "name": "stdout",
          "text": [
            "Accuracy: 0.6591365461847389\n"
          ]
        }
      ]
    },
    {
      "cell_type": "markdown",
      "source": [
        "### Non-Linear Classifiers"
      ],
      "metadata": {
        "id": "qvtNz31KJ5NG"
      }
    },
    {
      "cell_type": "markdown",
      "source": [
        "#### Model 3: k Nearest Neighbours"
      ],
      "metadata": {
        "id": "Uha19IL2YXjb"
      }
    },
    {
      "cell_type": "markdown",
      "source": [
        "Using cross validation to determine optimal k"
      ],
      "metadata": {
        "id": "xKSF2AIgMOEH"
      }
    },
    {
      "cell_type": "code",
      "source": [
        "from sklearn.neighbors import KNeighborsClassifier\n",
        "from sklearn.model_selection import cross_val_score\n",
        "\n",
        "# Define a range of k values to try\n",
        "k_range = range(1, 31)\n",
        "\n",
        "# Create empty lists to store the cross-validation scores and k values\n",
        "cv_scores = []\n",
        "k_values = []\n",
        "\n",
        "# Perform 10-fold cross-validation for each k value\n",
        "for k in k_range:\n",
        "    knn = KNeighborsClassifier(n_neighbors=k)\n",
        "    scores = cross_val_score(knn, X_train_scaled, y_train, cv=10, scoring='accuracy')\n",
        "    cv_scores.append(scores.mean())\n",
        "    k_values.append(k)\n",
        "    print('k:', k, 'CV score:', scores.mean())\n",
        "\n",
        "# Find the k value with the highest cross-validation score\n",
        "best_k = k_range[cv_scores.index(max(cv_scores))]\n",
        "print('Best k:', best_k)"
      ],
      "metadata": {
        "colab": {
          "base_uri": "https://localhost:8080/"
        },
        "id": "RPFjnjn8LU6c",
        "outputId": "7968e81d-4737-4710-9c7e-7a32111d1220"
      },
      "execution_count": null,
      "outputs": [
        {
          "output_type": "stream",
          "name": "stdout",
          "text": [
            "k: 1 CV score: 0.5955390990037909\n",
            "k: 2 CV score: 0.5922727673454995\n",
            "k: 3 CV score: 0.6238661981587132\n",
            "k: 4 CV score: 0.615846777748391\n",
            "k: 5 CV score: 0.6359044596415663\n",
            "k: 6 CV score: 0.6331425296910618\n",
            "k: 7 CV score: 0.6562146572461304\n",
            "k: 8 CV score: 0.6486895631037394\n",
            "k: 9 CV score: 0.6587247012002367\n",
            "k: 10 CV score: 0.6582171509174948\n",
            "k: 11 CV score: 0.6642391153763806\n",
            "k: 12 CV score: 0.6609759322930442\n",
            "k: 13 CV score: 0.6687535421468243\n",
            "k: 14 CV score: 0.6647403685092127\n",
            "k: 15 CV score: 0.6674966310247982\n",
            "k: 16 CV score: 0.6627284291129835\n",
            "k: 17 CV score: 0.6647353307892848\n",
            "k: 18 CV score: 0.6632284228158335\n",
            "k: 19 CV score: 0.6672434855984182\n",
            "k: 20 CV score: 0.6659865744763921\n",
            "k: 21 CV score: 0.6707484792382967\n",
            "k: 22 CV score: 0.6700010075439856\n",
            "k: 23 CV score: 0.6702503746804196\n",
            "k: 24 CV score: 0.67300978577096\n",
            "k: 25 CV score: 0.6717535043639249\n",
            "k: 26 CV score: 0.6725034949181999\n",
            "k: 27 CV score: 0.6704991121018627\n",
            "k: 28 CV score: 0.6697440838276597\n",
            "k: 29 CV score: 0.6689953527033665\n",
            "k: 30 CV score: 0.6715009886525358\n",
            "Best k: 24\n"
          ]
        }
      ]
    },
    {
      "cell_type": "markdown",
      "source": [
        "Calculating performance metrics using best k=5"
      ],
      "metadata": {
        "id": "eDdHfbAyMUAx"
      }
    },
    {
      "cell_type": "code",
      "source": [
        "from sklearn.neighbors import KNeighborsClassifier\n",
        "from sklearn.metrics import accuracy_score\n",
        "\n",
        "# Create a KNeighborsClassifier object with k=5\n",
        "knn = KNeighborsClassifier(n_neighbors=24)\n",
        "\n",
        "# Train the KNN model on the training set\n",
        "knn.fit(X_train_scaled, y_train)\n",
        "\n",
        "# Make predictions on the testing set\n",
        "y_pred = knn.predict(X_test_scaled)\n",
        "\n",
        "# Calculate the accuracy of the model\n",
        "accuracy = accuracy_score(y_test, y_pred)\n",
        "print('Accuracy:', accuracy)"
      ],
      "metadata": {
        "id": "zASRZIY4YfZz",
        "colab": {
          "base_uri": "https://localhost:8080/"
        },
        "outputId": "811fb7c5-3e18-45c4-c920-f65a645fb9a5"
      },
      "execution_count": null,
      "outputs": [
        {
          "output_type": "stream",
          "name": "stdout",
          "text": [
            "Accuracy: 0.6716867469879518\n"
          ]
        }
      ]
    },
    {
      "cell_type": "markdown",
      "source": [
        "#### Model 4: Decision Tree"
      ],
      "metadata": {
        "id": "-rkqn4aNKQFK"
      }
    },
    {
      "cell_type": "code",
      "source": [
        "from sklearn.tree import DecisionTreeClassifier\n",
        "from sklearn.metrics import accuracy_score\n",
        "\n",
        "# Create a DecisionTreeClassifier object\n",
        "tree = DecisionTreeClassifier()\n",
        "\n",
        "# Train the decision tree model on the training set\n",
        "tree.fit(X_train_scaled, y_train)\n",
        "\n",
        "# Make predictions on the testing set\n",
        "y_pred = tree.predict(X_test_scaled)\n",
        "\n",
        "# Calculate the accuracy of the model\n",
        "accuracy = accuracy_score(y_test, y_pred)\n",
        "print('Accuracy:', accuracy)"
      ],
      "metadata": {
        "colab": {
          "base_uri": "https://localhost:8080/"
        },
        "id": "lDPrbY7cKHbT",
        "outputId": "5383070e-639d-491d-852d-f2eb4fae765f"
      },
      "execution_count": null,
      "outputs": [
        {
          "output_type": "stream",
          "name": "stdout",
          "text": [
            "Accuracy: 0.6124497991967871\n"
          ]
        }
      ]
    },
    {
      "cell_type": "markdown",
      "source": [
        "### Ensemble Methods"
      ],
      "metadata": {
        "id": "_loOHc5WKqUh"
      }
    },
    {
      "cell_type": "markdown",
      "source": [
        "#### Model 5: Random Forests"
      ],
      "metadata": {
        "id": "G1QO2Mc1Yd5M"
      }
    },
    {
      "cell_type": "markdown",
      "source": [
        "Using cross validation to determine optimal number of trees"
      ],
      "metadata": {
        "id": "Iv1l3gmRMtkY"
      }
    },
    {
      "cell_type": "code",
      "source": [
        "from sklearn.ensemble import RandomForestClassifier\n",
        "from sklearn.model_selection import cross_val_score\n",
        "\n",
        "# Define a range of n_estimators (number of trees) to try\n",
        "n_range = range(10, 201, 10)\n",
        "\n",
        "# Create empty lists to store the cross-validation scores and n_estimators values\n",
        "cv_scores = []\n",
        "n_values = []\n",
        "\n",
        "# Perform 10-fold cross-validation for each n_estimator value\n",
        "for n in n_range:\n",
        "    rfc = RandomForestClassifier(n_estimators=n)\n",
        "    scores = cross_val_score(rfc, X_train_scaled, y_train, cv=10, scoring='accuracy')\n",
        "    cv_scores.append(scores.mean())\n",
        "    n_values.append(n)\n",
        "    print('n_estimators:', n, 'CV score:', scores.mean())\n",
        "\n",
        "# Find the n_estimator value with the highest cross-validation score\n",
        "best_n = n_range[cv_scores.index(max(cv_scores))]\n",
        "print('Best n_estimators:', best_n)"
      ],
      "metadata": {
        "colab": {
          "base_uri": "https://localhost:8080/"
        },
        "id": "qbFLAFfNMDKV",
        "outputId": "86348401-1e41-49f2-e68e-576cc0cc3cf0"
      },
      "execution_count": null,
      "outputs": [
        {
          "output_type": "stream",
          "name": "stdout",
          "text": [
            "n_estimators: 10 CV score: 0.6404201458419918\n",
            "n_estimators: 20 CV score: 0.6466927368672939\n",
            "n_estimators: 30 CV score: 0.6501977305071724\n",
            "n_estimators: 40 CV score: 0.6451889774687976\n",
            "n_estimators: 50 CV score: 0.6552197075603582\n",
            "n_estimators: 60 CV score: 0.6569734638102794\n",
            "n_estimators: 70 CV score: 0.6517077870555786\n",
            "n_estimators: 80 CV score: 0.653707761866979\n",
            "n_estimators: 90 CV score: 0.6549602649840682\n",
            "n_estimators: 100 CV score: 0.6564703215324743\n",
            "n_estimators: 110 CV score: 0.6562203246810493\n",
            "n_estimators: 120 CV score: 0.6544627901411821\n",
            "n_estimators: 130 CV score: 0.6534602838755179\n",
            "n_estimators: 140 CV score: 0.6524596667548268\n",
            "n_estimators: 150 CV score: 0.6522046321834738\n",
            "n_estimators: 160 CV score: 0.6527065150312967\n",
            "n_estimators: 170 CV score: 0.64794335083941\n",
            "n_estimators: 180 CV score: 0.6574728277981385\n",
            "n_estimators: 190 CV score: 0.6502008790821274\n",
            "n_estimators: 200 CV score: 0.6519596730519767\n",
            "Best n_estimators: 180\n"
          ]
        }
      ]
    },
    {
      "cell_type": "markdown",
      "source": [
        "Calculating performance metrics using best number of decision trees\n",
        "\n"
      ],
      "metadata": {
        "id": "OFu0r394MeHI"
      }
    },
    {
      "cell_type": "code",
      "source": [
        "from sklearn.ensemble import RandomForestClassifier\n",
        "\n",
        "# Create a Random Forest Classifier object with 190 trees\n",
        "rfc = RandomForestClassifier(n_estimators=190)\n",
        "\n",
        "# Train the Random Forest Classifier on the training set\n",
        "rfc.fit(X_train_scaled, y_train)\n",
        "\n",
        "# Make predictions on the testing set\n",
        "y_pred = rfc.predict(X_test_scaled)\n",
        "\n",
        "# Calculate the accuracy of the model\n",
        "accuracy = accuracy_score(y_test, y_pred)\n",
        "print('Accuracy:', accuracy)"
      ],
      "metadata": {
        "id": "yWJAsz57NTcd",
        "outputId": "44145f82-ef40-432f-8c92-adf50a1a1a4d",
        "colab": {
          "base_uri": "https://localhost:8080/"
        }
      },
      "execution_count": null,
      "outputs": [
        {
          "output_type": "stream",
          "name": "stdout",
          "text": [
            "Accuracy: 0.6701807228915663\n"
          ]
        }
      ]
    },
    {
      "cell_type": "markdown",
      "source": [
        "#### Model 6: Adaboost"
      ],
      "metadata": {
        "id": "jpO6xIipY1np"
      }
    },
    {
      "cell_type": "markdown",
      "source": [
        "Using cross validation to determine optimal number of decision stumps"
      ],
      "metadata": {
        "id": "3-z_PYDyON1z"
      }
    },
    {
      "cell_type": "code",
      "source": [
        "from sklearn.tree import DecisionTreeClassifier\n",
        "from sklearn.ensemble import AdaBoostClassifier\n",
        "from sklearn.metrics import accuracy_score\n",
        "from sklearn.model_selection import cross_val_score\n",
        "\n",
        "# Create a DecisionTreeClassifier object as the base estimator for AdaBoost\n",
        "base_estimator = DecisionTreeClassifier(max_depth=1)\n",
        "\n",
        "# Create a range of values for the n_estimators parameter\n",
        "n_estimators_values = [10, 50, 100, 200, 500]\n",
        "cv_scores = []\n",
        "\n",
        "# Loop through the values of n_estimators and calculate the cross-validation scores\n",
        "for n_estimators in n_estimators_values:\n",
        "    # Create an AdaBoost classifier object with the decision tree base estimator\n",
        "    ada = AdaBoostClassifier(estimator=base_estimator, n_estimators=n_estimators)\n",
        "\n",
        "    # Calculate the cross-validation scores using 5-fold cross-validation\n",
        "    scores = cross_val_score(ada, X_train_scaled, y_train, cv=5)\n",
        "\n",
        "    # Calculate the mean accuracy score\n",
        "    mean_accuracy = scores.mean()\n",
        "\n",
        "    #store all cv scores\n",
        "    cv_scores.append(mean_accuracy)\n",
        "\n",
        "    # Print the results\n",
        "    print(f\"n_estimators = {n_estimators}: Mean accuracy = {mean_accuracy}\")\n",
        "\n",
        "# Find the n_estimator value with the highest cross-validation score\n",
        "best_n = n_range[cv_scores.index(max(cv_scores))]\n",
        "print('Best n_estimators:', best_n)"
      ],
      "metadata": {
        "colab": {
          "base_uri": "https://localhost:8080/"
        },
        "id": "mGEljVjGONjV",
        "outputId": "e9ee3386-e50b-4332-d601-250f93c5b18b"
      },
      "execution_count": null,
      "outputs": [
        {
          "output_type": "stream",
          "name": "stdout",
          "text": [
            "n_estimators = 10: Mean accuracy = 0.6787844768760042\n",
            "n_estimators = 50: Mean accuracy = 0.6898227375213442\n",
            "n_estimators = 100: Mean accuracy = 0.6903227328044075\n",
            "n_estimators = 200: Mean accuracy = 0.6875623814869671\n",
            "n_estimators = 500: Mean accuracy = 0.6827973321006405\n",
            "Best n_estimators: 30\n"
          ]
        }
      ]
    },
    {
      "cell_type": "markdown",
      "source": [
        "Calculating performance metrics using best number of decision stumps"
      ],
      "metadata": {
        "id": "3TKERx8_OOOD"
      }
    },
    {
      "cell_type": "code",
      "source": [
        "from sklearn.tree import DecisionTreeClassifier\n",
        "from sklearn.ensemble import AdaBoostClassifier\n",
        "from sklearn.metrics import accuracy_score\n",
        "\n",
        "# Create a DecisionTreeClassifier object as the base estimator for AdaBoost\n",
        "base_estimator = DecisionTreeClassifier(max_depth=1)\n",
        "\n",
        "# Create an AdaBoost classifier object with the decision tree base estimator\n",
        "ada = AdaBoostClassifier(estimator=base_estimator, n_estimators=30)\n",
        "\n",
        "# Train the AdaBoost model on the training set\n",
        "ada.fit(X_train_scaled, y_train)\n",
        "\n",
        "# Make predictions on the testing set\n",
        "y_pred = ada.predict(X_test_scaled)\n",
        "\n",
        "# Calculate the accuracy of the model\n",
        "accuracy = accuracy_score(y_test, y_pred)\n",
        "print('Accuracy:', accuracy)"
      ],
      "metadata": {
        "id": "AZPqhlQqY2CB",
        "colab": {
          "base_uri": "https://localhost:8080/"
        },
        "outputId": "a11e3f34-76c2-455e-cfd9-31f907fffd3c"
      },
      "execution_count": null,
      "outputs": [
        {
          "output_type": "stream",
          "name": "stdout",
          "text": [
            "Accuracy: 0.677710843373494\n"
          ]
        }
      ]
    },
    {
      "cell_type": "markdown",
      "source": [
        "#### Model 7: XGBoost"
      ],
      "metadata": {
        "id": "D8DObs7Dp5aC"
      }
    },
    {
      "cell_type": "code",
      "source": [
        "import pandas as pd\n",
        "import xgboost as xgb\n",
        "from sklearn.model_selection import GridSearchCV\n",
        "from sklearn.metrics import accuracy_score\n",
        "from sklearn.model_selection import cross_validate\n",
        "\n",
        "# Define the parameter grid for GridSearchCV\n",
        "param_grid = {\n",
        "    'max_depth': [1, 2, 3],\n",
        "    'eta': [0.05, 0.1, 0.15],\n",
        "    'objective':['binary:logistic'],\n",
        "    'eval_metric':['error', 'auc'],\n",
        "    'n_estimators': [50, 100, 150]\n",
        "}\n",
        "\n",
        "# Create an XGBoost classifier object\n",
        "xgb_model = xgb.XGBClassifier()\n",
        "\n",
        "# Use GridSearchCV to tune hyperparameters and determine the optimal number of boosting rounds\n",
        "grid_search = GridSearchCV(xgb_model, param_grid, cv=10, n_jobs=-1)\n",
        "grid_search.fit(X_train_scaled, y_train, eval_set=[(X_test_scaled, y_test)])\n",
        "\n",
        "# Print the best hyperparameters\n",
        "print(\"Best Hyperparameters: \", grid_search.best_params_)\n",
        "\n",
        "# Use cross-validation to determine the optimal number of boosting rounds\n",
        "results = xgb.cv(grid_search.best_params_, xgb.DMatrix(X_train_scaled, label=y_train), num_boost_round=1000, nfold=10, early_stopping_rounds=10, verbose_eval=False)\n",
        "\n",
        "# Print the evaluation metric for each boosting round in each fold of the cross-validation\n",
        "df_results = pd.DataFrame.from_dict(results)\n",
        "\n",
        "# Get the optimal number of boosting rounds\n",
        "optimal_rounds = df_results.shape[0]\n",
        "print(\"Optimal Number of Boosting Rounds: \", optimal_rounds)\n",
        "\n",
        "# Train the XGBoost model with the optimal hyperparameters and determine the optimal number of boosting rounds using early stopping\n",
        "model = xgb.train(grid_search.best_params_, xgb.DMatrix(X_train_scaled, label=y_train), num_boost_round=optimal_rounds, verbose_eval=False)\n",
        "\n",
        "# Make predictions on the testing set\n",
        "y_pred = model.predict(xgb.DMatrix(X_test_scaled))\n",
        "\n",
        "# Convert predicted probabilities to binary labels\n",
        "y_pred_binary = [1 if p > 0.5 else 0 for p in y_pred]\n",
        "\n",
        "# Calculate the accuracy of the model\n",
        "accuracy = accuracy_score(y_test, y_pred_binary)\n",
        "print('Accuracy:', accuracy)"
      ],
      "metadata": {
        "colab": {
          "base_uri": "https://localhost:8080/"
        },
        "id": "7uGXwoYHD8rh",
        "outputId": "510b3f46-953a-4028-8b4c-6f06745fb61e"
      },
      "execution_count": null,
      "outputs": [
        {
          "output_type": "stream",
          "name": "stdout",
          "text": [
            "[0]\tvalidation_0-error:0.32129\n",
            "[1]\tvalidation_0-error:0.32129\n",
            "[2]\tvalidation_0-error:0.32530\n",
            "[3]\tvalidation_0-error:0.31777\n",
            "[4]\tvalidation_0-error:0.31727\n",
            "[5]\tvalidation_0-error:0.32530\n",
            "[6]\tvalidation_0-error:0.32329\n",
            "[7]\tvalidation_0-error:0.32229\n",
            "[8]\tvalidation_0-error:0.32430\n",
            "[9]\tvalidation_0-error:0.32179\n",
            "[10]\tvalidation_0-error:0.32179\n",
            "[11]\tvalidation_0-error:0.32028\n",
            "[12]\tvalidation_0-error:0.31777\n",
            "[13]\tvalidation_0-error:0.32078\n",
            "[14]\tvalidation_0-error:0.31978\n",
            "[15]\tvalidation_0-error:0.31777\n",
            "[16]\tvalidation_0-error:0.31677\n",
            "[17]\tvalidation_0-error:0.31526\n",
            "[18]\tvalidation_0-error:0.31526\n",
            "[19]\tvalidation_0-error:0.31627\n",
            "[20]\tvalidation_0-error:0.31526\n",
            "[21]\tvalidation_0-error:0.31476\n",
            "[22]\tvalidation_0-error:0.31627\n",
            "[23]\tvalidation_0-error:0.31576\n",
            "[24]\tvalidation_0-error:0.31476\n",
            "[25]\tvalidation_0-error:0.31526\n",
            "[26]\tvalidation_0-error:0.31426\n",
            "[27]\tvalidation_0-error:0.31476\n",
            "[28]\tvalidation_0-error:0.31476\n",
            "[29]\tvalidation_0-error:0.31526\n",
            "[30]\tvalidation_0-error:0.31526\n",
            "[31]\tvalidation_0-error:0.31225\n",
            "[32]\tvalidation_0-error:0.31275\n",
            "[33]\tvalidation_0-error:0.31376\n",
            "[34]\tvalidation_0-error:0.31426\n",
            "[35]\tvalidation_0-error:0.31426\n",
            "[36]\tvalidation_0-error:0.31225\n",
            "[37]\tvalidation_0-error:0.31175\n",
            "[38]\tvalidation_0-error:0.31175\n",
            "[39]\tvalidation_0-error:0.31175\n",
            "[40]\tvalidation_0-error:0.31074\n",
            "[41]\tvalidation_0-error:0.31124\n",
            "[42]\tvalidation_0-error:0.31124\n",
            "[43]\tvalidation_0-error:0.31175\n",
            "[44]\tvalidation_0-error:0.31175\n",
            "[45]\tvalidation_0-error:0.31024\n",
            "[46]\tvalidation_0-error:0.30974\n",
            "[47]\tvalidation_0-error:0.30873\n",
            "[48]\tvalidation_0-error:0.30773\n",
            "[49]\tvalidation_0-error:0.30823\n",
            "[50]\tvalidation_0-error:0.30723\n",
            "[51]\tvalidation_0-error:0.30673\n",
            "[52]\tvalidation_0-error:0.30572\n",
            "[53]\tvalidation_0-error:0.30622\n",
            "[54]\tvalidation_0-error:0.30622\n",
            "[55]\tvalidation_0-error:0.30673\n",
            "[56]\tvalidation_0-error:0.30723\n",
            "[57]\tvalidation_0-error:0.30823\n",
            "[58]\tvalidation_0-error:0.30924\n",
            "[59]\tvalidation_0-error:0.30924\n",
            "[60]\tvalidation_0-error:0.30924\n",
            "[61]\tvalidation_0-error:0.30773\n",
            "[62]\tvalidation_0-error:0.30673\n",
            "[63]\tvalidation_0-error:0.30572\n",
            "[64]\tvalidation_0-error:0.30622\n",
            "[65]\tvalidation_0-error:0.30622\n",
            "[66]\tvalidation_0-error:0.30572\n",
            "[67]\tvalidation_0-error:0.30572\n",
            "[68]\tvalidation_0-error:0.30522\n",
            "[69]\tvalidation_0-error:0.30572\n",
            "[70]\tvalidation_0-error:0.30472\n",
            "[71]\tvalidation_0-error:0.30472\n",
            "[72]\tvalidation_0-error:0.30522\n",
            "[73]\tvalidation_0-error:0.30472\n",
            "[74]\tvalidation_0-error:0.30522\n",
            "[75]\tvalidation_0-error:0.30622\n",
            "[76]\tvalidation_0-error:0.30622\n",
            "[77]\tvalidation_0-error:0.30723\n",
            "[78]\tvalidation_0-error:0.30673\n",
            "[79]\tvalidation_0-error:0.30622\n",
            "[80]\tvalidation_0-error:0.30622\n",
            "[81]\tvalidation_0-error:0.30622\n",
            "[82]\tvalidation_0-error:0.30572\n",
            "[83]\tvalidation_0-error:0.30472\n",
            "[84]\tvalidation_0-error:0.30522\n",
            "[85]\tvalidation_0-error:0.30522\n",
            "[86]\tvalidation_0-error:0.30522\n",
            "[87]\tvalidation_0-error:0.30572\n",
            "[88]\tvalidation_0-error:0.30522\n",
            "[89]\tvalidation_0-error:0.30522\n",
            "[90]\tvalidation_0-error:0.30522\n",
            "[91]\tvalidation_0-error:0.30572\n",
            "[92]\tvalidation_0-error:0.30622\n",
            "[93]\tvalidation_0-error:0.30472\n",
            "[94]\tvalidation_0-error:0.30522\n",
            "[95]\tvalidation_0-error:0.30572\n",
            "[96]\tvalidation_0-error:0.30572\n",
            "[97]\tvalidation_0-error:0.30572\n",
            "[98]\tvalidation_0-error:0.30622\n",
            "[99]\tvalidation_0-error:0.30622\n",
            "Best Hyperparameters:  {'eta': 0.05, 'eval_metric': 'error', 'max_depth': 3, 'n_estimators': 100, 'objective': 'binary:logistic'}\n",
            "[11:11:46] WARNING: ../src/learner.cc:767: \n",
            "Parameters: { \"n_estimators\" } are not used.\n",
            "\n",
            "[11:11:46] WARNING: ../src/learner.cc:767: \n",
            "Parameters: { \"n_estimators\" } are not used.\n",
            "\n",
            "[11:11:46] WARNING: ../src/learner.cc:767: \n",
            "Parameters: { \"n_estimators\" } are not used.\n",
            "\n",
            "[11:11:46] WARNING: ../src/learner.cc:767: \n",
            "Parameters: { \"n_estimators\" } are not used.\n",
            "\n",
            "[11:11:46] WARNING: ../src/learner.cc:767: \n",
            "Parameters: { \"n_estimators\" } are not used.\n",
            "\n",
            "[11:11:46] WARNING: ../src/learner.cc:767: \n",
            "Parameters: { \"n_estimators\" } are not used.\n",
            "\n",
            "[11:11:46] WARNING: ../src/learner.cc:767: \n",
            "Parameters: { \"n_estimators\" } are not used.\n",
            "\n",
            "[11:11:46] WARNING: ../src/learner.cc:767: \n",
            "Parameters: { \"n_estimators\" } are not used.\n",
            "\n",
            "[11:11:46] WARNING: ../src/learner.cc:767: \n",
            "Parameters: { \"n_estimators\" } are not used.\n",
            "\n",
            "[11:11:46] WARNING: ../src/learner.cc:767: \n",
            "Parameters: { \"n_estimators\" } are not used.\n",
            "\n",
            "Optimal Number of Boosting Rounds:  21\n",
            "[11:11:46] WARNING: ../src/learner.cc:767: \n",
            "Parameters: { \"n_estimators\" } are not used.\n",
            "\n",
            "Accuracy: 0.6847389558232931\n"
          ]
        }
      ]
    },
    {
      "cell_type": "markdown",
      "source": [
        "#### Model 8: Gradient Boosting Machine"
      ],
      "metadata": {
        "id": "N3BIMeiGrXdx"
      }
    },
    {
      "cell_type": "code",
      "source": [
        "import xgboost as xgb\n",
        "from sklearn.model_selection import GridSearchCV\n",
        "from sklearn.metrics import accuracy_score\n",
        "from sklearn.metrics import accuracy_score, confusion_matrix, classification_report, f1_score, precision_score, recall_score\n",
        "\n",
        "# Define the parameters for the XGBoost classifier\n",
        "params = {'max_depth': [1, 2, 3], 'learning_rate': [0.05, 0.1, 0.15], 'n_estimators': [50, 100, 150], 'objective': ['binary:logistic']}\n",
        "\n",
        "# Create a GBM classifier object\n",
        "gbm = xgb.XGBClassifier()\n",
        "\n",
        "# Use GridSearchCV with cross-validation to find the best parameters\n",
        "cv_gbm = GridSearchCV(gbm, params, cv=10, scoring='accuracy')\n",
        "cv_gbm.fit(X_train_scaled, y_train)\n",
        "\n",
        "# Print the best parameters and accuracy score\n",
        "print('Best Parameters:', cv_gbm.best_params_)\n",
        "\n",
        "# Train the GBM model on the full training set with the best parameters\n",
        "best_gbm = xgb.XGBClassifier(**cv_gbm.best_params_)\n",
        "best_gbm.fit(X_train_scaled, y_train)\n",
        "\n",
        "# Make predictions on the testing set\n",
        "y_pred = best_gbm.predict(X_test_scaled)\n",
        "\n",
        "# Calculate the accuracy of the model\n",
        "accuracy = accuracy_score(y_test, y_pred)\n",
        "print('\\nAccuracy:', accuracy)\n",
        "\n",
        "# Calculate the F1 score\n",
        "f1 = f1_score(y_test, y_pred, average='weighted')\n",
        "print('\\nF1 Score:', f1)\n",
        "\n",
        "# Calculate the precision score\n",
        "precision = precision_score(y_test, y_pred, average='weighted')\n",
        "print('\\nPrecision:', precision)\n",
        "\n",
        "# Calculate the recall score\n",
        "recall = recall_score(y_test, y_pred, average='weighted')\n",
        "print('\\nRecall:', recall)\n",
        "\n",
        "# Calculate the confusion matrix\n",
        "cm = confusion_matrix(y_test, y_pred)\n",
        "print('\\nConfusion Matrix:\\n', cm)\n",
        "\n",
        "# Calculate the classification report\n",
        "cr = classification_report(y_test, y_pred)\n",
        "print('\\nClassification Report:\\n', cr)"
      ],
      "metadata": {
        "colab": {
          "base_uri": "https://localhost:8080/"
        },
        "id": "BEwxghYwr1K1",
        "outputId": "238eecab-4921-4dc7-f8e1-80ea248a3d39"
      },
      "execution_count": null,
      "outputs": [
        {
          "output_type": "stream",
          "name": "stdout",
          "text": [
            "Best Parameters: {'learning_rate': 0.05, 'max_depth': 3, 'n_estimators': 100, 'objective': 'binary:logistic'}\n",
            "\n",
            "Accuracy: 0.6937751004016064\n",
            "\n",
            "F1 Score: 0.6937973274778872\n",
            "\n",
            "Precision: 0.6939328479677291\n",
            "\n",
            "Recall: 0.6937751004016064\n",
            "\n",
            "Confusion Matrix:\n",
            " [[699 314]\n",
            " [296 683]]\n",
            "\n",
            "Classification Report:\n",
            "               precision    recall  f1-score   support\n",
            "\n",
            "           0       0.70      0.69      0.70      1013\n",
            "           1       0.69      0.70      0.69       979\n",
            "\n",
            "    accuracy                           0.69      1992\n",
            "   macro avg       0.69      0.69      0.69      1992\n",
            "weighted avg       0.69      0.69      0.69      1992\n",
            "\n"
          ]
        }
      ]
    },
    {
      "cell_type": "code",
      "source": [
        "from fairlearn.metrics import demographic_parity_difference\n",
        "\n",
        "demo_parity = demographic_parity_difference(y_test, y_pred, sensitive_features=X_test[\"race\"])\n",
        "\n",
        "print(\"Demographic pariy: \",demo_parity)"
      ],
      "metadata": {
        "colab": {
          "base_uri": "https://localhost:8080/"
        },
        "id": "7ALoZLJUwsJE",
        "outputId": "20ec5d3f-7e9f-461c-9a14-6da785f93f8f"
      },
      "execution_count": null,
      "outputs": [
        {
          "output_type": "stream",
          "name": "stdout",
          "text": [
            "Demographic pariy:  0.6071428571428572\n"
          ]
        }
      ]
    },
    {
      "cell_type": "markdown",
      "source": [
        "## Result Analysis and Fairness Test"
      ],
      "metadata": {
        "id": "fQV8Tg1DZAzM"
      }
    },
    {
      "cell_type": "markdown",
      "source": [
        "### Question 1: Bias in Terms of Oppurtunity Cost\n",
        "\n",
        "Whether there is bias in terms of opportunity cost, by comparing false positive rates. To do so, compute the probability that an individual is predicted positive by your algorithm given that they BOTH (1) did not actually recidivate, and (2) are categorized as African-American by the race variable. Compare this to the probability that an individual is predicted positive by your algorithm given that they BOTH (1) did not actually recidivate, and (2) are\n",
        "categorized as Caucasian by the race variable. Report both the numerators and the denominators for your calculations, in addition to the probabilities. Based on this, write one or two paragraphs about whether you think the algorithm is biased towards one or the other group and the potential\n",
        "societal implications of using such an algorithm"
      ],
      "metadata": {
        "id": "QAO8quC6Xl2j"
      }
    },
    {
      "cell_type": "code",
      "source": [
        "import pandas as pd\n",
        "\n",
        "# African American probability\n",
        "#capturing test_df\n",
        "test_df = X_test.reset_index().drop('index', axis=1).copy()\n",
        "test_df = pd.concat([test_df, y_test.to_frame().reset_index().drop('index', axis=1),  pd.Series(y_pred).to_frame().reset_index().drop('index', axis=1).rename(columns={0: 'y_pred'})], axis=1)\n",
        "\n",
        "# Calculate the count of individuals who satisfy the conditions\n",
        "aa_numerator_count = len(test_df[(test_df['race'] == 1) & (test_df['is_recid'] == 0) & (test_df['y_pred'] == 1)])\n",
        "\n",
        "# Calculate the total count of individuals who are categorized as African-American and did not actually recidivate\n",
        "aa_denominator_count = len(test_df[(test_df['race'] == 1) & (test_df['is_recid'] == 0)])\n",
        "\n",
        "# Calculate the conditional probability\n",
        "aa_cond_prob = aa_numerator_count / aa_denominator_count\n",
        "\n",
        "# Caucassian probability\n",
        "# Calculate the count of individuals who satisfy the conditions\n",
        "c_numerator_count = len(test_df[(test_df['race'] == 2) & (test_df['is_recid'] == 0) & (test_df['y_pred'] == 1)])\n",
        "\n",
        "# Calculate the total count of individuals who are categorized as Caucassian and did not actually recidivate\n",
        "c_denominator_count = len(test_df[(test_df['race'] == 2) & (test_df['is_recid'] == 0)])\n",
        "\n",
        "# Calculate the conditional probability\n",
        "c_cond_prob = c_numerator_count / c_denominator_count\n",
        "\n",
        "print(\"African-American numerator:\", aa_numerator_count)\n",
        "print(\"African-American denominator:\", aa_denominator_count)\n",
        "print(\"African-American probability:\", aa_cond_prob)\n",
        "\n",
        "\n",
        "print(\"\\nCaucasian numerator:\", c_numerator_count)\n",
        "print(\"Caucasian denominator:\", c_denominator_count)\n",
        "print(\"Caucasian probability:\", c_cond_prob)"
      ],
      "metadata": {
        "colab": {
          "base_uri": "https://localhost:8080/"
        },
        "id": "BNzencN98Bk5",
        "outputId": "cfcc201e-6dc0-4613-91a4-efe696d1c719"
      },
      "execution_count": null,
      "outputs": [
        {
          "output_type": "stream",
          "name": "stdout",
          "text": [
            "African-American numerator: 206\n",
            "African-American denominator: 470\n",
            "African-American probability: 0.43829787234042555\n",
            "\n",
            "Caucasian numerator: 78\n",
            "Caucasian denominator: 364\n",
            "Caucasian probability: 0.21428571428571427\n"
          ]
        }
      ]
    },
    {
      "cell_type": "markdown",
      "source": [
        "### Question 2: Bias in terms of calibration\n",
        "\n",
        "Whether there is bias in a different sense, by comparing\n",
        "calibration. To do so, compute the probability that an individual recidivates given that they BOTH\n",
        "(1) are predicted positive by your algorithm, and (2) are categorized as African-American by the\n",
        "race variable. Compare this to the probability that an individual recidivates given that they BOTH\n",
        "(1) are predicted positive by your algorithm, and (2) are categorized as Caucasian by the race\n",
        "variable. Report both the numerators and the denominators for your calculations, in addition\n",
        "to the probabilities. Based on this, write one or two paragraphs about whether you think the\n",
        "algorithm is biased towards one or the other group based on this second measure and the potential\n",
        "societal implications of using such an algorithm."
      ],
      "metadata": {
        "id": "xGVKaGLBX_eY"
      }
    },
    {
      "cell_type": "code",
      "source": [
        "import pandas as pd\n",
        "\n",
        "# African American probability\n",
        "#capturing test_df\n",
        "test_df = X_test.reset_index().drop('index', axis=1).copy()\n",
        "test_df = pd.concat([test_df, y_test.to_frame().reset_index().drop('index', axis=1),  pd.Series(y_pred).to_frame().reset_index().drop('index', axis=1).rename(columns={0: 'y_pred'})], axis=1)\n",
        "\n",
        "# Calculate the count of individuals who satisfy the conditions\n",
        "aa_numerator_count = len(test_df[(test_df['race'] == 1) & (test_df['is_recid'] == 1) & (test_df['y_pred'] == 1)])\n",
        "\n",
        "# Calculate the total count of individuals who are categorized as African-American and predicted as recidivate\n",
        "aa_denominator_count = len(test_df[(test_df['race'] == 1) & (test_df['y_pred'] == 1)])\n",
        "\n",
        "# Calculate the conditional probability\n",
        "aa_cond_prob = aa_numerator_count / aa_denominator_count\n",
        "\n",
        "# Caucassian probability\n",
        "# Calculate the count of individuals who satisfy the conditions\n",
        "c_numerator_count = len(test_df[(test_df['race'] == 2) & (test_df['is_recid'] == 1) & (test_df['y_pred'] == 1)])\n",
        "\n",
        "# Calculate the total count of individuals who are categorized as Caucassian and predicted as recidivate\n",
        "c_denominator_count = len(test_df[(test_df['race'] == 2) & (test_df['y_pred'] == 1)])\n",
        "\n",
        "# Calculate the conditional probability\n",
        "c_cond_prob = c_numerator_count / c_denominator_count\n",
        "\n",
        "print(\"African-American numerator:\", aa_numerator_count)\n",
        "print(\"African-American denominator:\", aa_denominator_count)\n",
        "print(\"African-American probability:\", aa_cond_prob)\n",
        "\n",
        "\n",
        "print(\"\\nCaucasian numerator:\", c_numerator_count)\n",
        "print(\"Caucasian denominator:\", c_denominator_count)\n",
        "print(\"Caucasian probability:\", c_cond_prob)"
      ],
      "metadata": {
        "id": "ygCwHFpbYF2c",
        "colab": {
          "base_uri": "https://localhost:8080/"
        },
        "outputId": "3dbdb69b-7bb8-43b1-918d-8daeed193495"
      },
      "execution_count": null,
      "outputs": [
        {
          "output_type": "stream",
          "name": "stdout",
          "text": [
            "African-American numerator: 479\n",
            "African-American denominator: 685\n",
            "African-American probability: 0.6992700729927007\n",
            "\n",
            "Caucasian numerator: 154\n",
            "Caucasian denominator: 232\n",
            "Caucasian probability: 0.6637931034482759\n"
          ]
        }
      ]
    },
    {
      "cell_type": "markdown",
      "source": [
        "### Question 3: Analysis of Q1 & Q2\n",
        "\n",
        "Insights based on comparing results along these two metrics. Which\n",
        "measure do you think is more appropriate in this domain, or for different groups who care about\n",
        "the domain? Can you think of another domain where the opposite conclusion would hold?"
      ],
      "metadata": {
        "id": "MvPwy7ipX_HS"
      }
    },
    {
      "cell_type": "code",
      "source": [
        "import numpy as np\n",
        "import matplotlib.pyplot as plt\n",
        "\n",
        "# Data\n",
        "opportunity_cost_bias = [0.44, 0.21]\n",
        "calibration_bias = [0.69, 0.66]\n",
        "labels = ['African Americans', 'Caucasians']\n",
        "\n",
        "# Bar graph\n",
        "x = np.arange(len(labels))\n",
        "width = 0.35\n",
        "fig, ax = plt.subplots()\n",
        "rects1 = ax.bar(x - width/2, opportunity_cost_bias, width, label='Opportunity Cost')\n",
        "rects2 = ax.bar(x + width/2, calibration_bias, width, label='Calibration')\n",
        "\n",
        "# Add labels, title, and legend\n",
        "ax.set_ylabel('Bias Probability')\n",
        "ax.set_title('Bias Comparison')\n",
        "ax.set_xticks(x)\n",
        "ax.set_xticklabels(labels)\n",
        "ax.legend()\n",
        "\n",
        "plt.show()"
      ],
      "metadata": {
        "id": "SOvsGG0XYGdq",
        "colab": {
          "base_uri": "https://localhost:8080/",
          "height": 453
        },
        "outputId": "fa683d60-abbc-4f07-970e-11395fdddf44"
      },
      "execution_count": null,
      "outputs": [
        {
          "output_type": "display_data",
          "data": {
            "text/plain": [
              "<Figure size 640x480 with 1 Axes>"
            ],
            "image/png": "[encoded data removed]"
          },
          "metadata": {}
        }
      ]
    },
    {
      "cell_type": "markdown",
      "source": [
        "### Question 4: Race as a protected feature\n",
        "\n",
        " The role of the “race” variable as a protected feature, which means that one may\n",
        "not discriminate on the basis of these features, and it is important to ensure that outcomes are\n",
        "fair with respect to them. If your initial model used “race” how do the results change when you\n",
        "explicitly remove that feature? If your model didn’t use it, how do the results change when you\n",
        "do? What does this tell you about the direct use of protected features"
      ],
      "metadata": {
        "id": "NuHTTDyCX-77"
      }
    },
    {
      "cell_type": "markdown",
      "source": [
        "#### Extracting Data without Race Variable"
      ],
      "metadata": {
        "id": "9VI8wxElxo5N"
      }
    },
    {
      "cell_type": "code",
      "source": [
        "X_train_norace = X_train.drop('race', axis=1)\n",
        "X_test_norace = X_test.drop('race', axis=1)\n",
        "\n",
        "\n",
        "# Fit the scaler to the training set and transform both training and testing sets\n",
        "X_train_scaled_norace = scaler.fit_transform(X_train_norace)\n",
        "X_test_scaled_norace = scaler.transform(X_test_norace)"
      ],
      "metadata": {
        "id": "FxDNhcu2xe4u"
      },
      "execution_count": null,
      "outputs": []
    },
    {
      "cell_type": "markdown",
      "source": [
        "#### Result 1: Accuracy using Gradient Boosting Machine"
      ],
      "metadata": {
        "id": "uyHl6J7cxW5o"
      }
    },
    {
      "cell_type": "code",
      "source": [
        "import xgboost as xgb\n",
        "from sklearn.model_selection import GridSearchCV\n",
        "from sklearn.metrics import accuracy_score, confusion_matrix, classification_report, f1_score, precision_score, recall_score\n",
        "\n",
        "# Define the parameters for the XGBoost classifier\n",
        "params = {'max_depth': [1, 2, 3], 'learning_rate': [0.05, 0.1, 0.15], 'n_estimators': [50, 100, 150], 'objective': ['binary:logistic']}\n",
        "\n",
        "# Create a GBM classifier object\n",
        "gbm = xgb.XGBClassifier()\n",
        "\n",
        "# Use GridSearchCV with cross-validation to find the best parameters\n",
        "cv_gbm = GridSearchCV(gbm, params, cv=10, scoring='accuracy')\n",
        "cv_gbm.fit(X_train_scaled_norace, y_train)\n",
        "\n",
        "# Print the best parameters and accuracy score\n",
        "print('Best Parameters:', cv_gbm.best_params_)\n",
        "\n",
        "# Train the GBM model on the full training set with the best parameters\n",
        "best_gbm = xgb.XGBClassifier(**cv_gbm.best_params_)\n",
        "best_gbm.fit(X_train_scaled_norace, y_train)\n",
        "\n",
        "# Make predictions on the testing set\n",
        "y_pred = best_gbm.predict(X_test_scaled_norace)\n",
        "\n",
        "# Calculate the accuracy of the model\n",
        "accuracy = accuracy_score(y_test, y_pred)\n",
        "print('\\nAccuracy:', accuracy)\n",
        "\n",
        "# Calculate the F1 score\n",
        "f1 = f1_score(y_test, y_pred, average='weighted')\n",
        "print('\\nF1 Score:', f1)\n",
        "\n",
        "# Calculate the precision score\n",
        "precision = precision_score(y_test, y_pred, average='weighted')\n",
        "print('\\nPrecision:', precision)\n",
        "\n",
        "# Calculate the recall score\n",
        "recall = recall_score(y_test, y_pred, average='weighted')\n",
        "print('\\nRecall:', recall)\n",
        "\n",
        "# Calculate the confusion matrix\n",
        "cm = confusion_matrix(y_test, y_pred)\n",
        "print('\\nConfusion Matrix:\\n', cm)\n",
        "\n",
        "# Calculate the classification report\n",
        "cr = classification_report(y_test, y_pred)\n",
        "print('\\nClassification Report:\\n', cr)"
      ],
      "metadata": {
        "id": "eQE0t1fJYG7u",
        "colab": {
          "base_uri": "https://localhost:8080/"
        },
        "outputId": "92cee449-2628-44f4-97a6-5a3b4528daab"
      },
      "execution_count": null,
      "outputs": [
        {
          "output_type": "stream",
          "name": "stdout",
          "text": [
            "Best Parameters: {'learning_rate': 0.05, 'max_depth': 3, 'n_estimators': 150, 'objective': 'binary:logistic'}\n",
            "\n",
            "Accuracy: 0.695281124497992\n",
            "\n",
            "F1 Score: 0.6953005556751591\n",
            "\n",
            "Precision: 0.6953623876744504\n",
            "\n",
            "Recall: 0.695281124497992\n",
            "\n",
            "Confusion Matrix:\n",
            " [[704 309]\n",
            " [298 681]]\n",
            "\n",
            "Classification Report:\n",
            "               precision    recall  f1-score   support\n",
            "\n",
            "           0       0.70      0.69      0.70      1013\n",
            "           1       0.69      0.70      0.69       979\n",
            "\n",
            "    accuracy                           0.70      1992\n",
            "   macro avg       0.70      0.70      0.70      1992\n",
            "weighted avg       0.70      0.70      0.70      1992\n",
            "\n"
          ]
        }
      ]
    },
    {
      "cell_type": "markdown",
      "source": [
        "#### Result 2: Bias in terms of opportunity cost"
      ],
      "metadata": {
        "id": "VFkyhAcuzsEP"
      }
    },
    {
      "cell_type": "code",
      "source": [
        "import pandas as pd\n",
        "\n",
        "#capturing test_df\n",
        "test_df = X_test_norace.reset_index().drop('index', axis=1).copy()\n",
        "test_df = pd.concat([test_df, y_test.to_frame().reset_index().drop('index', axis=1),  pd.Series(y_pred).to_frame().reset_index().drop('index', axis=1).rename(columns={0: 'y_pred'})], axis=1)\n",
        "X_test_reset = X_test.reset_index(drop=True)\n",
        "test_df = pd.concat([test_df, X_test_reset['race']], axis=1)\n",
        "\n",
        "# African American probability\n",
        "# Calculate the count of individuals who satisfy the conditions\n",
        "aa_numerator_count = len(test_df[(test_df['race'] == 1) & (test_df['is_recid'] == 0) & (test_df['y_pred'] == 1)])\n",
        "\n",
        "# Calculate the total count of individuals who are categorized as African-American and did not actually recidivate\n",
        "aa_denominator_count = len(test_df[(test_df['race'] == 1) & (test_df['is_recid'] == 0)])\n",
        "\n",
        "# Calculate the conditional probability\n",
        "aa_cond_prob = aa_numerator_count / aa_denominator_count\n",
        "\n",
        "# Caucassian probability\n",
        "# Calculate the count of individuals who satisfy the conditions\n",
        "c_numerator_count = len(test_df[(test_df['race'] == 2) & (test_df['is_recid'] == 0) & (test_df['y_pred'] == 1)])\n",
        "\n",
        "# Calculate the total count of individuals who are categorized as Caucassian and did not actually recidivate\n",
        "c_denominator_count = len(test_df[(test_df['race'] == 2) & (test_df['is_recid'] == 0)])\n",
        "\n",
        "# Calculate the conditional probability\n",
        "c_cond_prob = c_numerator_count / c_denominator_count\n",
        "\n",
        "print(\"African-American numerator:\", aa_numerator_count)\n",
        "print(\"African-American denominator:\", aa_denominator_count)\n",
        "print(\"African-American probability:\", aa_cond_prob)\n",
        "\n",
        "\n",
        "print(\"\\nCaucasian numerator:\", c_numerator_count)\n",
        "print(\"Caucasian denominator:\", c_denominator_count)\n",
        "print(\"Caucasian probability:\", c_cond_prob)"
      ],
      "metadata": {
        "colab": {
          "base_uri": "https://localhost:8080/"
        },
        "id": "vzCI40U7zruS",
        "outputId": "1c7acfe5-7dda-4fc6-df4c-ca662f38a37f"
      },
      "execution_count": null,
      "outputs": [
        {
          "output_type": "stream",
          "name": "stdout",
          "text": [
            "African-American numerator: 199\n",
            "African-American denominator: 470\n",
            "African-American probability: 0.42340425531914894\n",
            "\n",
            "Caucasian numerator: 79\n",
            "Caucasian denominator: 364\n",
            "Caucasian probability: 0.21703296703296704\n"
          ]
        }
      ]
    },
    {
      "cell_type": "markdown",
      "source": [
        "#### Result 3: Bias in terms of calibration"
      ],
      "metadata": {
        "id": "b6-AWpTK1JgE"
      }
    },
    {
      "cell_type": "code",
      "source": [
        "import pandas as pd\n",
        "\n",
        "#capturing test_df\n",
        "test_df = X_test_norace.reset_index().drop('index', axis=1).copy()\n",
        "test_df = pd.concat([test_df, y_test.to_frame().reset_index().drop('index', axis=1),  pd.Series(y_pred).to_frame().reset_index().drop('index', axis=1).rename(columns={0: 'y_pred'})], axis=1)\n",
        "X_test_reset = X_test.reset_index(drop=True)\n",
        "test_df = pd.concat([test_df, X_test_reset['race']], axis=1)\n",
        "\n",
        "# African American probability\n",
        "# Calculate the count of individuals who satisfy the conditions\n",
        "aa_numerator_count = len(test_df[(test_df['race'] == 1) & (test_df['is_recid'] == 1) & (test_df['y_pred'] == 1)])\n",
        "\n",
        "# Calculate the total count of individuals who are categorized as African-American and predicted as recidivate\n",
        "aa_denominator_count = len(test_df[(test_df['race'] == 1) & (test_df['y_pred'] == 1)])\n",
        "\n",
        "# Calculate the conditional probability\n",
        "aa_cond_prob = aa_numerator_count / aa_denominator_count\n",
        "\n",
        "# Caucassian probability\n",
        "# Calculate the count of individuals who satisfy the conditions\n",
        "c_numerator_count = len(test_df[(test_df['race'] == 2) & (test_df['is_recid'] == 1) & (test_df['y_pred'] == 1)])\n",
        "\n",
        "# Calculate the total count of individuals who are categorized as Caucassian and predicted as recidivate\n",
        "c_denominator_count = len(test_df[(test_df['race'] == 2) & (test_df['y_pred'] == 1)])\n",
        "\n",
        "# Calculate the conditional probability\n",
        "c_cond_prob = c_numerator_count / c_denominator_count\n",
        "\n",
        "print(\"African-American numerator:\", aa_numerator_count)\n",
        "print(\"African-American denominator:\", aa_denominator_count)\n",
        "print(\"African-American probability:\", aa_cond_prob)\n",
        "\n",
        "\n",
        "print(\"\\nCaucasian numerator:\", c_numerator_count)\n",
        "print(\"Caucasian denominator:\", c_denominator_count)\n",
        "print(\"Caucasian probability:\", c_cond_prob)"
      ],
      "metadata": {
        "colab": {
          "base_uri": "https://localhost:8080/"
        },
        "id": "l-0ijLEs1RTk",
        "outputId": "8c119d6c-7471-4f09-90f2-427470a05b43"
      },
      "execution_count": null,
      "outputs": [
        {
          "output_type": "stream",
          "name": "stdout",
          "text": [
            "African-American numerator: 413\n",
            "African-American denominator: 550\n",
            "African-American probability: 0.7509090909090909\n",
            "\n",
            "Caucasian numerator: 184\n",
            "Caucasian denominator: 295\n",
            "Caucasian probability: 0.6237288135593221\n"
          ]
        }
      ]
    },
    {
      "cell_type": "markdown",
      "source": [
        "### Question 5: Using a Fair Classifier\n",
        "\n",
        "Finally, try the whole experiment using a classifier designed to be more fair, for example the classifiers that attempt to achieve demographic parity or equal opportunity described here: https://scikit-lego.readthedocs.io/en/latest/fairness.html. Think about what kind of fairness you want (e.g. parity of false positive rates) and what methods might obtain that. What do you observe now? Is there a tradeoff between accuracy/AUC/F-measure and the fairness objective?"
      ],
      "metadata": {
        "id": "cR-QghZGX-tK"
      }
    },
    {
      "cell_type": "markdown",
      "source": [
        "#### Result 1: Accuracy using GBM and Fairclassifier"
      ],
      "metadata": {
        "id": "NohE-8Lw5svk"
      }
    },
    {
      "cell_type": "code",
      "source": [
        "!pip install fairlearn"
      ],
      "metadata": {
        "colab": {
          "base_uri": "https://localhost:8080/"
        },
        "id": "ENMxBmvz5boS",
        "outputId": "2f322a2e-614d-410b-f9a6-6a8871801b54"
      },
      "execution_count": null,
      "outputs": [
        {
          "output_type": "stream",
          "name": "stdout",
          "text": [
            "Looking in indexes: https://pypi.org/simple, https://us-python.pkg.dev/colab-wheels/public/simple/\n",
            "Collecting fairlearn\n",
            "  Downloading fairlearn-0.8.0-py3-none-any.whl (235 kB)\n",
            "\u001b[2K     \u001b[90m━━━━━━━━━━━━━━━━━━━━━━━━━━━━━━━━━━━━━━\u001b[0m \u001b[32m235.0/235.0 kB\u001b[0m \u001b[31m13.8 MB/s\u001b[0m eta \u001b[36m0:00:00\u001b[0m\n",
            "\u001b[?25hRequirement already satisfied: numpy>=1.17.2 in /usr/local/lib/python3.10/dist-packages (from fairlearn) (1.22.4)\n",
            "Requirement already satisfied: pandas>=0.25.1 in /usr/local/lib/python3.10/dist-packages (from fairlearn) (1.5.3)\n",
            "Requirement already satisfied: scikit-learn>=0.22.1 in /usr/local/lib/python3.10/dist-packages (from fairlearn) (1.2.2)\n",
            "Requirement already satisfied: scipy>=1.4.1 in /usr/local/lib/python3.10/dist-packages (from fairlearn) (1.10.1)\n",
            "Requirement already satisfied: python-dateutil>=2.8.1 in /usr/local/lib/python3.10/dist-packages (from pandas>=0.25.1->fairlearn) (2.8.2)\n",
            "Requirement already satisfied: pytz>=2020.1 in /usr/local/lib/python3.10/dist-packages (from pandas>=0.25.1->fairlearn) (2022.7.1)\n",
            "Requirement already satisfied: joblib>=1.1.1 in /usr/local/lib/python3.10/dist-packages (from scikit-learn>=0.22.1->fairlearn) (1.2.0)\n",
            "Requirement already satisfied: threadpoolctl>=2.0.0 in /usr/local/lib/python3.10/dist-packages (from scikit-learn>=0.22.1->fairlearn) (3.1.0)\n",
            "Requirement already satisfied: six>=1.5 in /usr/local/lib/python3.10/dist-packages (from python-dateutil>=2.8.1->pandas>=0.25.1->fairlearn) (1.16.0)\n",
            "Installing collected packages: fairlearn\n",
            "Successfully installed fairlearn-0.8.0\n"
          ]
        }
      ]
    },
    {
      "cell_type": "code",
      "source": [
        "# Load the necessary libraries\n",
        "from fairlearn.metrics import demographic_parity_difference\n",
        "from fairlearn.reductions import ExponentiatedGradient, DemographicParity\n",
        "from sklearn.metrics import accuracy_score, confusion_matrix, classification_report, f1_score, precision_score, recall_score\n",
        "\n",
        "# Define the fair classifier with demographic parity constraint\n",
        "constraint = DemographicParity()\n",
        "fair_classifier = ExponentiatedGradient(\n",
        "    estimator=best_gbm,\n",
        "    constraints=constraint,\n",
        ")\n",
        "\n",
        "# Train the fair classifier\n",
        "fair_classifier.fit(X_train_scaled, y_train, sensitive_features=X_train[\"race\"])\n",
        "\n",
        "# Make predictions on the test set\n",
        "y_pred = fair_classifier.predict(X_test_scaled)\n",
        "\n",
        "# Evaluate the performance of the fair classifier\n",
        "accuracy = accuracy_score(y_test, y_pred)\n",
        "\n",
        "# Evaluate the demographic parity of the fair classifier\n",
        "demo_parity = demographic_parity_difference(y_test, y_pred, sensitive_features=X_test[\"race\"])\n",
        "\n",
        "# Calculate the accuracy of the model\n",
        "accuracy = accuracy_score(y_test, y_pred)\n",
        "print('\\nAccuracy:', accuracy)\n",
        "\n",
        "# Calculate the Demographic Parity of the model\n",
        "print(f\"\\nDemographic Parity: {demo_parity}\")\n",
        "\n",
        "# Calculate the F1 score\n",
        "f1 = f1_score(y_test, y_pred, average='weighted')\n",
        "print('\\nF1 Score:', f1)\n",
        "\n",
        "# Calculate the precision score\n",
        "precision = precision_score(y_test, y_pred, average='weighted')\n",
        "print('\\nPrecision:', precision)\n",
        "\n",
        "# Calculate the recall score\n",
        "recall = recall_score(y_test, y_pred, average='weighted')\n",
        "print('\\nRecall:', recall)\n",
        "\n",
        "# Calculate the confusion matrix\n",
        "cm = confusion_matrix(y_test, y_pred)\n",
        "print('\\nConfusion Matrix:\\n', cm)\n",
        "\n",
        "# Calculate the classification report\n",
        "cr = classification_report(y_test, y_pred)\n",
        "print('\\nClassification Report:\\n', cr)"
      ],
      "metadata": {
        "id": "c8U6StBYYHSc",
        "colab": {
          "base_uri": "https://localhost:8080/"
        },
        "outputId": "fe0f6482-2354-4795-80d8-8e68839ac46b"
      },
      "execution_count": null,
      "outputs": [
        {
          "output_type": "stream",
          "name": "stdout",
          "text": [
            "\n",
            "Accuracy: 0.6862449799196787\n",
            "\n",
            "Demographic Parity: 0.5125815470643057\n",
            "\n",
            "F1 Score: 0.6861535843373925\n",
            "\n",
            "Precision: 0.6862148190570416\n",
            "\n",
            "Recall: 0.6862449799196787\n",
            "\n",
            "Confusion Matrix:\n",
            " [[711 302]\n",
            " [323 656]]\n",
            "\n",
            "Classification Report:\n",
            "               precision    recall  f1-score   support\n",
            "\n",
            "           0       0.69      0.70      0.69      1013\n",
            "           1       0.68      0.67      0.68       979\n",
            "\n",
            "    accuracy                           0.69      1992\n",
            "   macro avg       0.69      0.69      0.69      1992\n",
            "weighted avg       0.69      0.69      0.69      1992\n",
            "\n"
          ]
        }
      ]
    },
    {
      "cell_type": "markdown",
      "source": [
        "#### Result 2: Bias in terms of oppurtunity cost"
      ],
      "metadata": {
        "id": "UcnZiBrn6Z77"
      }
    },
    {
      "cell_type": "code",
      "source": [
        "import pandas as pd\n",
        "\n",
        "# African American probability\n",
        "#capturing test_df\n",
        "test_df = X_test.reset_index().drop('index', axis=1).copy()\n",
        "test_df = pd.concat([test_df, y_test.to_frame().reset_index().drop('index', axis=1),  pd.Series(y_pred).to_frame().reset_index().drop('index', axis=1).rename(columns={0: 'y_pred'})], axis=1)\n",
        "\n",
        "# Calculate the count of individuals who satisfy the conditions\n",
        "aa_numerator_count = len(test_df[(test_df['race'] == 1) & (test_df['is_recid'] == 0) & (test_df['y_pred'] == 1)])\n",
        "\n",
        "# Calculate the total count of individuals who are categorized as African-American and did not actually recidivate\n",
        "aa_denominator_count = len(test_df[(test_df['race'] == 1) & (test_df['is_recid'] == 0)])\n",
        "\n",
        "# Calculate the conditional probability\n",
        "aa_cond_prob = aa_numerator_count / aa_denominator_count\n",
        "\n",
        "# Caucassian probability\n",
        "# Calculate the count of individuals who satisfy the conditions\n",
        "c_numerator_count = len(test_df[(test_df['race'] == 2) & (test_df['is_recid'] == 0) & (test_df['y_pred'] == 1)])\n",
        "\n",
        "# Calculate the total count of individuals who are categorized as Caucassian and did not actually recidivate\n",
        "c_denominator_count = len(test_df[(test_df['race'] == 2) & (test_df['is_recid'] == 0)])\n",
        "\n",
        "# Calculate the conditional probability\n",
        "c_cond_prob = c_numerator_count / c_denominator_count\n",
        "\n",
        "print(\"African-American numerator:\", aa_numerator_count)\n",
        "print(\"African-American denominator:\", aa_denominator_count)\n",
        "print(\"African-American probability:\", aa_cond_prob)\n",
        "\n",
        "\n",
        "print(\"\\nCaucasian numerator:\", c_numerator_count)\n",
        "print(\"Caucasian denominator:\", c_denominator_count)\n",
        "print(\"Caucasian probability:\", c_cond_prob)"
      ],
      "metadata": {
        "colab": {
          "base_uri": "https://localhost:8080/"
        },
        "id": "JMkY9i1Q6aep",
        "outputId": "76130c1c-4104-4609-d5b9-7be1617219ef"
      },
      "execution_count": null,
      "outputs": [
        {
          "output_type": "stream",
          "name": "stdout",
          "text": [
            "African-American numerator: 137\n",
            "African-American denominator: 470\n",
            "African-American probability: 0.29148936170212764\n",
            "\n",
            "Caucasian numerator: 111\n",
            "Caucasian denominator: 364\n",
            "Caucasian probability: 0.30494505494505497\n"
          ]
        }
      ]
    },
    {
      "cell_type": "markdown",
      "source": [
        "#### Result 3: Bias in terms of calibration"
      ],
      "metadata": {
        "id": "e7vGkN5Q6bF_"
      }
    },
    {
      "cell_type": "code",
      "source": [
        "import pandas as pd\n",
        "\n",
        "# African American probability\n",
        "#capturing test_df\n",
        "test_df = X_test.reset_index().drop('index', axis=1).copy()\n",
        "test_df = pd.concat([test_df, y_test.to_frame().reset_index().drop('index', axis=1),  pd.Series(y_pred).to_frame().reset_index().drop('index', axis=1).rename(columns={0: 'y_pred'})], axis=1)\n",
        "\n",
        "# Calculate the count of individuals who satisfy the conditions\n",
        "aa_numerator_count = len(test_df[(test_df['race'] == 1) & (test_df['is_recid'] == 1) & (test_df['y_pred'] == 1)])\n",
        "\n",
        "# Calculate the total count of individuals who are categorized as African-American and predicted as recidivate\n",
        "aa_denominator_count = len(test_df[(test_df['race'] == 1) & (test_df['y_pred'] == 1)])\n",
        "\n",
        "# Calculate the conditional probability\n",
        "aa_cond_prob = aa_numerator_count / aa_denominator_count\n",
        "\n",
        "# Caucassian probability\n",
        "# Calculate the count of individuals who satisfy the conditions\n",
        "c_numerator_count = len(test_df[(test_df['race'] == 2) & (test_df['is_recid'] == 1) & (test_df['y_pred'] == 1)])\n",
        "\n",
        "# Calculate the total count of individuals who are categorized as Caucassian and predicted as recidivate\n",
        "c_denominator_count = len(test_df[(test_df['race'] == 2) & (test_df['y_pred'] == 1)])\n",
        "\n",
        "# Calculate the conditional probability\n",
        "c_cond_prob = c_numerator_count / c_denominator_count\n",
        "\n",
        "print(\"African-American numerator:\", aa_numerator_count)\n",
        "print(\"African-American denominator:\", aa_denominator_count)\n",
        "print(\"African-American probability:\", aa_cond_prob)\n",
        "\n",
        "\n",
        "print(\"\\nCaucasian numerator:\", c_numerator_count)\n",
        "print(\"Caucasian denominator:\", c_denominator_count)\n",
        "print(\"Caucasian probability:\", c_cond_prob)"
      ],
      "metadata": {
        "colab": {
          "base_uri": "https://localhost:8080/"
        },
        "id": "KpeMDFDV6bpG",
        "outputId": "4163a8c0-a201-4917-9ca9-bd14032f9bee"
      },
      "execution_count": null,
      "outputs": [
        {
          "output_type": "stream",
          "name": "stdout",
          "text": [
            "African-American numerator: 413\n",
            "African-American denominator: 550\n",
            "African-American probability: 0.7509090909090909\n",
            "\n",
            "Caucasian numerator: 184\n",
            "Caucasian denominator: 295\n",
            "Caucasian probability: 0.6237288135593221\n"
          ]
        }
      ]
    }
  ],
  "metadata": {
    "colab": {
      "provenance": [],
      "toc_visible": true
    },
    "kernelspec": {
      "display_name": "Python 3",
      "name": "python3"
    },
    "language_info": {
      "name": "python"
    }
  },
  "nbformat": 4,
  "nbformat_minor": 0
}